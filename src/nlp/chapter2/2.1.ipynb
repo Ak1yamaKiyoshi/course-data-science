{
 "cells": [
  {
   "cell_type": "code",
   "execution_count": 9,
   "metadata": {},
   "outputs": [],
   "source": [
    "import re"
   ]
  },
  {
   "cell_type": "markdown",
   "metadata": {},
   "source": [
    "# Task \n",
    "Write regular expressions for the following languages.\n",
    "1. the set of all alphabetic strings;\n",
    "2. the set of all lower case alphabetic strings ending in a b;\n",
    "3. the set of all strings from the alphabet a, b such that each a is immedi-\n",
    "ately preceded by and immediately followed by a b;"
   ]
  },
  {
   "cell_type": "code",
   "execution_count": 10,
   "metadata": {},
   "outputs": [],
   "source": [
    "test_string = \"\"\" \n",
    "# Task \n",
    "Write regular expressions for the following languages.\n",
    "1. the set of all alphabetic strings;\n",
    "2. the set of all lower case alphabetic strings ending in a b;\n",
    "3. the set of all strings from the alphabet a, b such that each a is immedi-\n",
    "ately preceded by and immediately followed by a b;\n",
    "balls\n",
    "aballs\n",
    "\"\"\""
   ]
  },
  {
   "cell_type": "code",
   "execution_count": 15,
   "metadata": {},
   "outputs": [],
   "source": [
    "def alphabetic_strings(string) -> list:\n",
    "    pattern  = r\"[A-z]+\"\n",
    "    return re.findall(pattern, string)\n",
    "\n",
    "def lowercase_ending_b(string) -> list:\n",
    "    pattern = r\"[a-z]+[b]\"\n",
    "    return re.findall(pattern, string)\n",
    "\n",
    "def strings_where_ab(string) -> list:\n",
    "    pattern = r\"[A-z]*[b][a][A-z]*\"\n",
    "    return re.findall(pattern, string)"
   ]
  },
  {
   "cell_type": "code",
   "execution_count": 12,
   "metadata": {},
   "outputs": [
    {
     "name": "stdout",
     "output_type": "stream",
     "text": [
      "['Task', 'Write', 'regular', 'expressions', 'for', 'the', 'following', 'languages', 'the', 'set', 'of', 'all', 'alphabetic', 'strings', 'the', 'set', 'of', 'all', 'lower', 'case', 'alphabetic', 'strings', 'ending', 'in', 'a', 'b', 'the', 'set', 'of', 'all', 'strings', 'from', 'the', 'alphabet', 'a', 'b', 'such', 'that', 'each', 'a', 'is', 'immedi', 'ately', 'preceded', 'by', 'and', 'immediately', 'followed', 'by', 'a', 'b', 'balls', 'aballs']\n"
     ]
    }
   ],
   "source": [
    "# 1. the set of all alphabetic strings; \n",
    "print(alphabetic_strings(test_string))"
   ]
  },
  {
   "cell_type": "code",
   "execution_count": 13,
   "metadata": {},
   "outputs": [
    {
     "name": "stdout",
     "output_type": "stream",
     "text": [
      "['alphab', 'alphab', 'alphab', 'ab']\n"
     ]
    }
   ],
   "source": [
    "# 2. the set of all lower case alphabetic strings ending in a b;\n",
    "print(lowercase_ending_b(test_string))"
   ]
  },
  {
   "cell_type": "code",
   "execution_count": 14,
   "metadata": {},
   "outputs": [
    {
     "name": "stdout",
     "output_type": "stream",
     "text": [
      "['balls', 'aballs']\n"
     ]
    }
   ],
   "source": [
    "# 3. the set of all strings from the alphabet a, b such that each a is immedi-\n",
    "# ately preceded by and immediately followed by a b;\n",
    "print(strings_where_ab(test_string))"
   ]
  }
 ],
 "metadata": {
  "kernelspec": {
   "display_name": "base",
   "language": "python",
   "name": "python3"
  },
  "language_info": {
   "codemirror_mode": {
    "name": "ipython",
    "version": 3
   },
   "file_extension": ".py",
   "mimetype": "text/x-python",
   "name": "python",
   "nbconvert_exporter": "python",
   "pygments_lexer": "ipython3",
   "version": "3.11.5"
  }
 },
 "nbformat": 4,
 "nbformat_minor": 2
}
