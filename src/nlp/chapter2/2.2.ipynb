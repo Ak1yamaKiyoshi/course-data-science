{
 "cells": [
  {
   "cell_type": "code",
   "execution_count": 116,
   "metadata": {},
   "outputs": [],
   "source": [
    "import re\n",
    "from pprint import pprint "
   ]
  },
  {
   "cell_type": "markdown",
   "metadata": {},
   "source": [
    "### Task \n",
    "Write regular expressions for the following languages. By “word”, we mean\n",
    "an alphabetic string separated from other words by whitespace, any relevant\n",
    "punctuation, line breaks, and so forth.\n",
    "1. the set of all strings with two consecutive repeated words (e.g., “Hum-\n",
    "bert Humbert” and “the the” but not “the bug” or “the big bug”);\n",
    "2. all strings that start at the beginning of the line with an integer and that\n",
    "end at the end of the line with a word;\n",
    "3. all strings that have both the word grotto and the word raven in them\n",
    "(but not, e.g., words like grottos that merely contain the word grotto);\n",
    "4. write a pattern that places the first word of an English sentence in a\n",
    "register. Deal with punctuation\n"
   ]
  },
  {
   "cell_type": "code",
   "execution_count": 117,
   "metadata": {},
   "outputs": [],
   "source": [
    "test_string = \"\"\" \n",
    "### Task \n",
    "Write regular expressions for the following languages. By “word”, we mean\n",
    "an alphabetic string separated from other words by whitespace, any relevant\n",
    "punctuation, line breaks, and so forth.\n",
    "1. the set of all strings with two consecutive repeated words (e.g., “Humbert Humbert” and the the\n",
    "but not “the bug” or “the big bug”);\n",
    "2. all strings that start at the beginning of the line with an integer and that\n",
    "end at the end of the line with a word;\n",
    "3. all strings that have both the word grotto and the word raven in them\n",
    "\n",
    "(but not, e.g., words like grottos that merely contain the word grotto);\n",
    "4. write a pattern that places the first word of an English sentence in a\n",
    "register. Deal with punctuation\n",
    "\n",
    "groto raven stirng \n",
    "Raven groto string \n",
    "\"\"\""
   ]
  },
  {
   "cell_type": "markdown",
   "metadata": {},
   "source": [
    "1. the set of all strings with two consecutive repeated words (e.g., “Hum-\n",
    "bert Humbert” and “the the” but not “the bug” or “the big bug”);"
   ]
  },
  {
   "cell_type": "code",
   "execution_count": 118,
   "metadata": {},
   "outputs": [
    {
     "name": "stdout",
     "output_type": "stream",
     "text": [
      "['Humbert', 'the']\n"
     ]
    }
   ],
   "source": [
    "def repeating_words(string):\n",
    "    pattern = r\"([A-za-z]+[A-z][A-z]+)[ -]\\1\"\n",
    "    return re.findall(pattern, string)\n",
    "print(repeating_words(test_string))"
   ]
  },
  {
   "cell_type": "markdown",
   "metadata": {},
   "source": [
    "2. all strings that start at the beginning of the line with an integer and that\n",
    "end at the end of the line with a word;"
   ]
  },
  {
   "cell_type": "code",
   "execution_count": 119,
   "metadata": {},
   "outputs": [
    {
     "name": "stdout",
     "output_type": "stream",
     "text": [
      "['1. the set of all strings with two consecutive repeated words (e.g., '\n",
      " '“Humbert Humbert” and the the',\n",
      " '2. all strings that start at the beginning of the line with an integer and '\n",
      " 'that',\n",
      " '3. all strings that have both the word grotto and the word raven in them',\n",
      " '4. write a pattern that places the first word of an English sentence in a']\n"
     ]
    }
   ],
   "source": [
    "def thing(string):\n",
    "    pattern = r\"[0-9].*[A-z]+$\"\n",
    "    compiled_pattern = re.compile(pattern, re.MULTILINE)\n",
    "    return compiled_pattern.findall(string)\n",
    "pprint(thing(test_string))"
   ]
  },
  {
   "cell_type": "markdown",
   "metadata": {},
   "source": [
    "3. all strings that have both the word grotto and the word raven in them\n",
    "\n",
    "(but not, e.g., words like grottos that merely contain the word grotto);"
   ]
  },
  {
   "cell_type": "code",
   "execution_count": 120,
   "metadata": {},
   "outputs": [
    {
     "name": "stdout",
     "output_type": "stream",
     "text": [
      "[('', 'groto raven stirng ')]\n"
     ]
    }
   ],
   "source": [
    "def groto_raven(string):\n",
    "    pattern = r\"(.*raven.groto.*)|(.*groto.raven.*)\"\n",
    "    compiled_pattern = re.compile(pattern, re.MULTILINE)\n",
    "    return compiled_pattern.findall(string)\n",
    "pprint(groto_raven(test_string))"
   ]
  },
  {
   "cell_type": "markdown",
   "metadata": {},
   "source": [
    "4. write a pattern that places the first word of an English sentence in a\n",
    "register. Deal with punctuation\n"
   ]
  },
  {
   "cell_type": "code",
   "execution_count": 121,
   "metadata": {},
   "outputs": [
    {
     "name": "stdout",
     "output_type": "stream",
     "text": [
      " \n",
      "### Task \n",
      "write regular expressions for the following languages. By “word”, we mean\n",
      "an alphabetic string separated from other words by whitespace, any relevant\n",
      "punctuation, line breaks, and so forth.\n",
      "1. the set of all strings with two consecutive repeated words (e.g., “Humbert Humbert” and the the\n",
      "but not “the bug” or “the big bug”);\n",
      "2. all strings that start at the beginning of the line with an integer and that\n",
      "end at the end of the line with a word;\n",
      "3. all strings that have both the word grotto and the word raven in them\n",
      "\n",
      "(but not, e.g., words like grottos that merely contain the word grotto);\n",
      "4. write a pattern that places the first word of an English sentence in a\n",
      "register. Deal with punctuation\n",
      "\n",
      "groto raven stirng \n",
      "raven groto string \n",
      "\n"
     ]
    }
   ],
   "source": [
    "\n",
    "def sub_first(string):\n",
    "    def process(match):\n",
    "        return match.group(0).lower()\n",
    "    \n",
    "    pattern = r\"^([A-z]+)\"\n",
    "    compiled_pattern = re.compile(pattern, re.MULTILINE)\n",
    "    return compiled_pattern.sub(process, string)\n",
    "\n",
    "print(sub_first(test_string))"
   ]
  }
 ],
 "metadata": {
  "kernelspec": {
   "display_name": "base",
   "language": "python",
   "name": "python3"
  },
  "language_info": {
   "codemirror_mode": {
    "name": "ipython",
    "version": 3
   },
   "file_extension": ".py",
   "mimetype": "text/x-python",
   "name": "python",
   "nbconvert_exporter": "python",
   "pygments_lexer": "ipython3",
   "version": "3.11.5"
  }
 },
 "nbformat": 4,
 "nbformat_minor": 2
}
