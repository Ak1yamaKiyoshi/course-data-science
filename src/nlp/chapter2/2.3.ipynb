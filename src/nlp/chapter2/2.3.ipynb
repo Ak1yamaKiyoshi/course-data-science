{
 "cells": [
  {
   "cell_type": "code",
   "execution_count": 45,
   "metadata": {},
   "outputs": [],
   "source": [
    "import re"
   ]
  },
  {
   "cell_type": "markdown",
   "metadata": {},
   "source": [
    "### 2.3 \n",
    "Implement an ELIZA-like program, using substitutions such as those described<br>\n",
    "on page 13. You might want to choose a different domain than a Rogerian psy-<br>\n",
    "chologist, although keep in mind that you would need a domain in which your<br>\n",
    "program can legitimately engage in a lot of simple repetition<br>"
   ]
  },
  {
   "cell_type": "code",
   "execution_count": 52,
   "metadata": {},
   "outputs": [
    {
     "name": "stdout",
     "output_type": "stream",
     "text": [
      "> hello, my name is akiyama\n",
      "Hello akiyama\n",
      "> it was good!\n",
      " I glad that your day was good! \n"
     ]
    }
   ],
   "source": [
    "\n",
    "string = input(\" What's your name? \")\n",
    "print(f\"> {string}\")\n",
    "print(f'Hello {re.findall(r\"my name is ([A-z]+)\", string, re.IGNORECASE)[0]}')\n",
    "string = input(\"How was your day?\")\n",
    "print(f\"> {string}\")\n",
    "if 'good' in string: print(\" I glad that your day was good! \")\n",
    "elif 'bad' in string: print(\" Oh, i'm sorry about that, what happened? \")"
   ]
  }
 ],
 "metadata": {
  "kernelspec": {
   "display_name": "base",
   "language": "python",
   "name": "python3"
  },
  "language_info": {
   "codemirror_mode": {
    "name": "ipython",
    "version": 3
   },
   "file_extension": ".py",
   "mimetype": "text/x-python",
   "name": "python",
   "nbconvert_exporter": "python",
   "pygments_lexer": "ipython3",
   "version": "3.11.5"
  }
 },
 "nbformat": 4,
 "nbformat_minor": 2
}
