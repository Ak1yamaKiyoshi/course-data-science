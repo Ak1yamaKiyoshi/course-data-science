{
 "cells": [
  {
   "cell_type": "code",
   "execution_count": null,
   "metadata": {},
   "outputs": [],
   "source": [
    "corpus = [\n",
    "    \"<s> I am Sam </s>\",\n",
    "    \"<s> Sam I am </s>\",\n",
    "    \"<s> I do not like green eggs and ham  </s>\"\n",
    "]\n",
    "\n",
    "for sentence in corpus:\n",
    "    for word in sentence: \n",
    "        "
   ]
  }
 ],
 "metadata": {
  "language_info": {
   "name": "python"
  }
 },
 "nbformat": 4,
 "nbformat_minor": 2
}
