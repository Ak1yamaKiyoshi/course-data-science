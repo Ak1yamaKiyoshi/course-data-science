{
 "cells": [
  {
   "cell_type": "markdown",
   "metadata": {},
   "source": [
    "# 📥 Import libraries "
   ]
  },
  {
   "cell_type": "code",
   "execution_count": 76,
   "metadata": {},
   "outputs": [],
   "source": [
    "import pandas as pd\n",
    "import numpy as np\n",
    "import matplotlib.pyplot as plt\n",
    "import seaborn as sns"
   ]
  },
  {
   "cell_type": "markdown",
   "metadata": {},
   "source": [
    "# 🧹 Clean dataset\n",
    "For EDA scores, we only need to leave such columns as: group, name, total score, and possibly email. \n",
    "All other columns of the dataset are questions, where each row has a score for the answer. \n",
    "In this case, we don't need these statistics, so we'll just throw away these columns. \n",
    "The scores in the dataset are written in the format score / max score, but the max score is the same everywhere, so it needs to be converted to just score. \n"
   ]
  },
  {
   "cell_type": "markdown",
   "metadata": {},
   "source": [
    "Let's load the dataset and look at the columns it contains. \n",
    "As you can see below, the required columns are at the beginning, and all the other columns (test questions) are at the end. "
   ]
  },
  {
   "cell_type": "code",
   "execution_count": 77,
   "metadata": {},
   "outputs": [
    {
     "data": {
      "text/plain": [
       "Index(['Timestamp', 'Username', 'Total score', 'Введіть прізвище та ім'я',\n",
       "       'Введіть прізвище та ім'я [Score]',\n",
       "       'Введіть прізвище та ім'я [Feedback]', 'Введіть номер групи',\n",
       "       'Введіть номер групи [Score]', 'Введіть номер групи [Feedback]',\n",
       "       ' Якщо у списку ініціалізації масиву з елементів простих типів , елементів менше, ніж оголошений розмір масиву, наприклад: int v[5] = {1, 2, 3};  То:',\n",
       "       ...\n",
       "       'Функція це... [Score]', 'Функція це... [Feedback]', 'Unnamed: 162',\n",
       "       'Unnamed: 163', 'Unnamed: 164', 'Unnamed: 165', 'Unnamed: 166',\n",
       "       'Unnamed: 167', 'Unnamed: 168', 'Unnamed: 169'],\n",
       "      dtype='object', length=170)"
      ]
     },
     "execution_count": 77,
     "metadata": {},
     "output_type": "execute_result"
    }
   ],
   "source": [
    "df = pd.read_csv('mkrop2.csv')\n",
    "df.columns\n"
   ]
  },
  {
   "cell_type": "markdown",
   "metadata": {},
   "source": [
    "To verify this, let's look at 5 random records from the dataset."
   ]
  },
  {
   "cell_type": "code",
   "execution_count": 78,
   "metadata": {},
   "outputs": [
    {
     "data": {
      "text/html": [
       "<div>\n",
       "<style scoped>\n",
       "    .dataframe tbody tr th:only-of-type {\n",
       "        vertical-align: middle;\n",
       "    }\n",
       "\n",
       "    .dataframe tbody tr th {\n",
       "        vertical-align: top;\n",
       "    }\n",
       "\n",
       "    .dataframe thead th {\n",
       "        text-align: right;\n",
       "    }\n",
       "</style>\n",
       "<table border=\"1\" class=\"dataframe\">\n",
       "  <thead>\n",
       "    <tr style=\"text-align: right;\">\n",
       "      <th></th>\n",
       "      <th>Timestamp</th>\n",
       "      <th>Username</th>\n",
       "      <th>Total score</th>\n",
       "      <th>Введіть прізвище та ім'я</th>\n",
       "      <th>Введіть прізвище та ім'я [Score]</th>\n",
       "      <th>Введіть прізвище та ім'я [Feedback]</th>\n",
       "      <th>Введіть номер групи</th>\n",
       "      <th>Введіть номер групи [Score]</th>\n",
       "      <th>Введіть номер групи [Feedback]</th>\n",
       "      <th>Якщо у списку ініціалізації масиву з елементів простих типів , елементів менше, ніж оголошений розмір масиву, наприклад: int v[5] = {1, 2, 3};  То:</th>\n",
       "      <th>...</th>\n",
       "      <th>Функція це... [Score]</th>\n",
       "      <th>Функція це... [Feedback]</th>\n",
       "      <th>Unnamed: 162</th>\n",
       "      <th>Unnamed: 163</th>\n",
       "      <th>Unnamed: 164</th>\n",
       "      <th>Unnamed: 165</th>\n",
       "      <th>Unnamed: 166</th>\n",
       "      <th>Unnamed: 167</th>\n",
       "      <th>Unnamed: 168</th>\n",
       "      <th>Unnamed: 169</th>\n",
       "    </tr>\n",
       "  </thead>\n",
       "  <tbody>\n",
       "    <tr>\n",
       "      <th>25</th>\n",
       "      <td>2021/12/21 10:48:59 AM GMT+2</td>\n",
       "      <td>kovalenkokateryna25@gmail.com</td>\n",
       "      <td>8.00 / 50</td>\n",
       "      <td>NaN</td>\n",
       "      <td>NaN</td>\n",
       "      <td>NaN</td>\n",
       "      <td>NaN</td>\n",
       "      <td>NaN</td>\n",
       "      <td>NaN</td>\n",
       "      <td>Всім іншим елементам надається значення 0</td>\n",
       "      <td>...</td>\n",
       "      <td>NaN</td>\n",
       "      <td>NaN</td>\n",
       "      <td>Коваленко Катерина</td>\n",
       "      <td>ІС-13</td>\n",
       "      <td>Width nInt 2147483647 Width nCharBit 8</td>\n",
       "      <td>NaN</td>\n",
       "      <td>NaN</td>\n",
       "      <td>NaN</td>\n",
       "      <td>NaN</td>\n",
       "      <td>NaN</td>\n",
       "    </tr>\n",
       "    <tr>\n",
       "      <th>69</th>\n",
       "      <td>2021/12/21 10:55:47 AM GMT+2</td>\n",
       "      <td>vlad2004bil@gmail.com</td>\n",
       "      <td>7.00 / 50</td>\n",
       "      <td>NaN</td>\n",
       "      <td>NaN</td>\n",
       "      <td>NaN</td>\n",
       "      <td>NaN</td>\n",
       "      <td>NaN</td>\n",
       "      <td>NaN</td>\n",
       "      <td>Значення інших елементів залежить від використ...</td>\n",
       "      <td>...</td>\n",
       "      <td>NaN</td>\n",
       "      <td>NaN</td>\n",
       "      <td>Білоконь Владислав</td>\n",
       "      <td>Іс-13</td>\n",
       "      <td>Width nInt 2147483647 Width nCharBit 8</td>\n",
       "      <td>NaN</td>\n",
       "      <td>NaN</td>\n",
       "      <td>NaN</td>\n",
       "      <td>NaN</td>\n",
       "      <td>NaN</td>\n",
       "    </tr>\n",
       "    <tr>\n",
       "      <th>295</th>\n",
       "      <td>2023/12/13 11:35:56 AM GMT+2</td>\n",
       "      <td>tanchuk.sofiia@lll.kpi.ua</td>\n",
       "      <td>40.00 / 50</td>\n",
       "      <td>Танчук Софія</td>\n",
       "      <td>-- / 0</td>\n",
       "      <td>NaN</td>\n",
       "      <td>ІС-33</td>\n",
       "      <td>-- / 0</td>\n",
       "      <td>NaN</td>\n",
       "      <td>Значення інших елементів залежить від використ...</td>\n",
       "      <td>...</td>\n",
       "      <td>1.00 / 1</td>\n",
       "      <td>NaN</td>\n",
       "      <td>NaN</td>\n",
       "      <td>NaN</td>\n",
       "      <td>NaN</td>\n",
       "      <td>NaN</td>\n",
       "      <td>NaN</td>\n",
       "      <td>NaN</td>\n",
       "      <td>NaN</td>\n",
       "      <td>NaN</td>\n",
       "    </tr>\n",
       "  </tbody>\n",
       "</table>\n",
       "<p>3 rows × 170 columns</p>\n",
       "</div>"
      ],
      "text/plain": [
       "                        Timestamp                       Username Total score  \\\n",
       "25   2021/12/21 10:48:59 AM GMT+2  kovalenkokateryna25@gmail.com   8.00 / 50   \n",
       "69   2021/12/21 10:55:47 AM GMT+2          vlad2004bil@gmail.com   7.00 / 50   \n",
       "295  2023/12/13 11:35:56 AM GMT+2      tanchuk.sofiia@lll.kpi.ua  40.00 / 50   \n",
       "\n",
       "    Введіть прізвище та ім'я Введіть прізвище та ім'я [Score]  \\\n",
       "25                       NaN                              NaN   \n",
       "69                       NaN                              NaN   \n",
       "295             Танчук Софія                           -- / 0   \n",
       "\n",
       "     Введіть прізвище та ім'я [Feedback] Введіть номер групи  \\\n",
       "25                                   NaN                 NaN   \n",
       "69                                   NaN                 NaN   \n",
       "295                                  NaN               ІС-33   \n",
       "\n",
       "    Введіть номер групи [Score]  Введіть номер групи [Feedback]  \\\n",
       "25                          NaN                             NaN   \n",
       "69                          NaN                             NaN   \n",
       "295                      -- / 0                             NaN   \n",
       "\n",
       "     Якщо у списку ініціалізації масиву з елементів простих типів , елементів менше, ніж оголошений розмір масиву, наприклад: int v[5] = {1, 2, 3};  То:  \\\n",
       "25           Всім іншим елементам надається значення 0                                                                                                     \n",
       "69   Значення інших елементів залежить від використ...                                                                                                     \n",
       "295  Значення інших елементів залежить від використ...                                                                                                     \n",
       "\n",
       "     ... Функція це... [Score]  Функція це... [Feedback]        Unnamed: 162  \\\n",
       "25   ...                   NaN                       NaN  Коваленко Катерина   \n",
       "69   ...                   NaN                       NaN  Білоконь Владислав   \n",
       "295  ...              1.00 / 1                       NaN                 NaN   \n",
       "\n",
       "    Unnamed: 163                            Unnamed: 164 Unnamed: 165  \\\n",
       "25         ІС-13  Width nInt 2147483647 Width nCharBit 8          NaN   \n",
       "69         Іс-13  Width nInt 2147483647 Width nCharBit 8          NaN   \n",
       "295          NaN                                     NaN          NaN   \n",
       "\n",
       "    Unnamed: 166  Unnamed: 167 Unnamed: 168 Unnamed: 169  \n",
       "25           NaN           NaN          NaN          NaN  \n",
       "69           NaN           NaN          NaN          NaN  \n",
       "295          NaN           NaN          NaN          NaN  \n",
       "\n",
       "[3 rows x 170 columns]"
      ]
     },
     "execution_count": 78,
     "metadata": {},
     "output_type": "execute_result"
    }
   ],
   "source": [
    "df.sample(3)"
   ]
  },
  {
   "cell_type": "markdown",
   "metadata": {},
   "source": [
    "As you can see above, we have a lot of columns with NaN values that we don't need and can't recover. \n",
    "Also, not everywhere the group is correctly indicated, this also needs to be corrected"
   ]
  },
  {
   "cell_type": "code",
   "execution_count": 79,
   "metadata": {},
   "outputs": [
    {
     "data": {
      "text/html": [
       "<div>\n",
       "<style scoped>\n",
       "    .dataframe tbody tr th:only-of-type {\n",
       "        vertical-align: middle;\n",
       "    }\n",
       "\n",
       "    .dataframe tbody tr th {\n",
       "        vertical-align: top;\n",
       "    }\n",
       "\n",
       "    .dataframe thead th {\n",
       "        text-align: right;\n",
       "    }\n",
       "</style>\n",
       "<table border=\"1\" class=\"dataframe\">\n",
       "  <thead>\n",
       "    <tr style=\"text-align: right;\">\n",
       "      <th></th>\n",
       "      <th>Email</th>\n",
       "      <th>Total score</th>\n",
       "      <th>Name</th>\n",
       "      <th>Group</th>\n",
       "    </tr>\n",
       "  </thead>\n",
       "  <tbody>\n",
       "    <tr>\n",
       "      <th>184</th>\n",
       "      <td>***tem@lll.kpi.ua</td>\n",
       "      <td>50.0</td>\n",
       "      <td>***ртем</td>\n",
       "      <td>ІС-34</td>\n",
       "    </tr>\n",
       "    <tr>\n",
       "      <th>185</th>\n",
       "      <td>***r.h@gmaiil.com</td>\n",
       "      <td>49.0</td>\n",
       "      <td>***Ігор</td>\n",
       "      <td>ІС-34</td>\n",
       "    </tr>\n",
       "    <tr>\n",
       "      <th>186</th>\n",
       "      <td>***dra@lll.kpi.ua</td>\n",
       "      <td>50.0</td>\n",
       "      <td>***ндра</td>\n",
       "      <td>ІС-34</td>\n",
       "    </tr>\n",
       "    <tr>\n",
       "      <th>187</th>\n",
       "      <td>***gor@lll.kpi.ua</td>\n",
       "      <td>48.0</td>\n",
       "      <td>***Єгор</td>\n",
       "      <td>ІС-34</td>\n",
       "    </tr>\n",
       "    <tr>\n",
       "      <th>189</th>\n",
       "      <td>***tro@lll.kpi.ua</td>\n",
       "      <td>50.0</td>\n",
       "      <td>***итро</td>\n",
       "      <td>ІС-32</td>\n",
       "    </tr>\n",
       "  </tbody>\n",
       "</table>\n",
       "</div>"
      ],
      "text/plain": [
       "                 Email  Total score     Name  Group\n",
       "184  ***tem@lll.kpi.ua         50.0  ***ртем  ІС-34\n",
       "185  ***r.h@gmaiil.com         49.0  ***Ігор  ІС-34\n",
       "186  ***dra@lll.kpi.ua         50.0  ***ндра  ІС-34\n",
       "187  ***gor@lll.kpi.ua         48.0  ***Єгор  ІС-34\n",
       "189  ***tro@lll.kpi.ua         50.0  ***итро  ІС-32"
      ]
     },
     "execution_count": 79,
     "metadata": {},
     "output_type": "execute_result"
    }
   ],
   "source": [
    "df = df[['Username', 'Total score', 'Введіть прізвище та ім\\'я', 'Введіть номер групи']]\n",
    "df.dropna(inplace=True)\n",
    "df.rename(columns={'Введіть прізвище та ім\\'я': 'Name', 'Введіть номер групи': 'Group', 'Username':'Email'}, inplace=True)\n",
    "df['Total score'] = df['Total score'].str.replace(' / 50', '').astype(float)\n",
    "df = df[df['Group'].isin([\"ІС-34\", \"ІС-33\", \"ІС-32\", \"ІС-31\"])]\n",
    "# Replace Emails and Names because it's personal data \n",
    "df['Name'] = df['Name'].apply(lambda x: '***' + x[-4:])\n",
    "df['Email'] = df['Email'].apply(lambda x: '***' + x[-14:])\n",
    "df.head(5)\n"
   ]
  },
  {
   "cell_type": "markdown",
   "metadata": {},
   "source": [
    "And here's a piece of dataset with already cleaned data.\n",
    "<br> What was done: <br>\n",
    "- Only the columns 'Username', 'Total score', 'Enter first and last name', and 'Enter group number' were selected.\n",
    "- For convenience, I renamed them to Name, Group, Email, respectively. \n",
    "- I converted Score to a simple number, without indicating the maximum score. \n",
    "- I also selected only 4 groups that I needed to analyze: IC-34, IC-33, IC-32, and IC-31. "
   ]
  },
  {
   "cell_type": "markdown",
   "metadata": {},
   "source": [
    "# 🧪 Exploratory Data Analysis\n",
    "First of all, we are interested in how well the groups did, not how well individual students did. In terms of data cleaning, I selected all the necessary dataset columns.\n",
    "Now let's compare the statistics by group. "
   ]
  },
  {
   "cell_type": "markdown",
   "metadata": {},
   "source": [
    "Here is barplot with the results of all groups. The graph legend shows the colors for each group. "
   ]
  },
  {
   "cell_type": "code",
   "execution_count": 80,
   "metadata": {},
   "outputs": [
    {
     "data": {
      "image/png": "[encoded data removed]",
      "text/plain": [
       "<Figure size 640x480 with 1 Axes>"
      ]
     },
     "metadata": {},
     "output_type": "display_data"
    },
    {
     "data": {
      "text/plain": [
       "<Figure size 1520x560 with 0 Axes>"
      ]
     },
     "metadata": {},
     "output_type": "display_data"
    }
   ],
   "source": [
    "sns.histplot(data=df, x=\"Total score\", hue=\"Group\", multiple=\"stack\")\n",
    "plt.figure(figsize=(15.2, 5.6))\n",
    "plt.show()"
   ]
  },
  {
   "cell_type": "markdown",
   "metadata": {},
   "source": [
    "Now let's present these statistics in a slightly more understandable form: <br> histograms of the distribution of scores by the number of those who received them for each group"
   ]
  },
  {
   "cell_type": "code",
   "execution_count": 81,
   "metadata": {},
   "outputs": [
    {
     "data": {
      "image/png": "[encoded data removed]",
      "text/plain": [
       "<Figure size 1520x560 with 4 Axes>"
      ]
     },
     "metadata": {},
     "output_type": "display_data"
    }
   ],
   "source": [
    "groups = df['Group'].unique()\n",
    "fig, axs = plt.subplots(2, 2, figsize=(15.2, 5.6))\n",
    "\n",
    "for i, group in enumerate(groups):\n",
    "    row = i // 2\n",
    "    col = i % 2\n",
    "    sns.histplot(df[df['Group'] == group]['Total score'], kde=False, ax=axs[row, col])\n",
    "    axs[row, col].set_title(f'Group {group}')\n",
    "\n",
    "fig.suptitle('Розподіл оцінок у кожній з груп')\n",
    "plt.tight_layout()\n",
    "plt.show()"
   ]
  },
  {
   "cell_type": "markdown",
   "metadata": {},
   "source": [
    "I'm also interested in how many students didn't get the maximum marks. <br> To do this, let's count how many students in each group wrote MKR for less than 47 points. "
   ]
  },
  {
   "cell_type": "code",
   "execution_count": 82,
   "metadata": {},
   "outputs": [
    {
     "data": {
      "image/png": "[encoded data removed]",
      "text/plain": [
       "<Figure size 1520x560 with 1 Axes>"
      ]
     },
     "metadata": {},
     "output_type": "display_data"
    }
   ],
   "source": [
    "count = df[df['Total score'] < 47].groupby('Group').size()\n",
    "\n",
    "plt.figure(figsize=(15.2, 5.6))\n",
    "sns.barplot(x=count.index, y=count.values)\n",
    "plt.title('Кількість студентів, які написали МКР2 З ОП на бал менший ніж 47. Розподіл по групах. ')\n",
    "plt.xlabel('Group')\n",
    "plt.ylabel('Count')\n",
    "plt.show()"
   ]
  },
  {
   "cell_type": "markdown",
   "metadata": {},
   "source": [
    "And now for the most interesting part: the top 10% of the worst performers from all groups."
   ]
  },
  {
   "cell_type": "code",
   "execution_count": 83,
   "metadata": {},
   "outputs": [
    {
     "data": {
      "text/html": [
       "<div>\n",
       "<style scoped>\n",
       "    .dataframe tbody tr th:only-of-type {\n",
       "        vertical-align: middle;\n",
       "    }\n",
       "\n",
       "    .dataframe tbody tr th {\n",
       "        vertical-align: top;\n",
       "    }\n",
       "\n",
       "    .dataframe thead th {\n",
       "        text-align: right;\n",
       "    }\n",
       "</style>\n",
       "<table border=\"1\" class=\"dataframe\">\n",
       "  <thead>\n",
       "    <tr style=\"text-align: right;\">\n",
       "      <th></th>\n",
       "      <th>Name</th>\n",
       "      <th>Group</th>\n",
       "      <th>Total score</th>\n",
       "    </tr>\n",
       "  </thead>\n",
       "  <tbody>\n",
       "    <tr>\n",
       "      <th>236</th>\n",
       "      <td>***омир</td>\n",
       "      <td>ІС-33</td>\n",
       "      <td>30.0</td>\n",
       "    </tr>\n",
       "    <tr>\n",
       "      <th>298</th>\n",
       "      <td>***нило</td>\n",
       "      <td>ІС-34</td>\n",
       "      <td>33.0</td>\n",
       "    </tr>\n",
       "    <tr>\n",
       "      <th>250</th>\n",
       "      <td>***дан</td>\n",
       "      <td>ІС-31</td>\n",
       "      <td>40.0</td>\n",
       "    </tr>\n",
       "    <tr>\n",
       "      <th>295</th>\n",
       "      <td>***офія</td>\n",
       "      <td>ІС-33</td>\n",
       "      <td>40.0</td>\n",
       "    </tr>\n",
       "    <tr>\n",
       "      <th>271</th>\n",
       "      <td>***рина</td>\n",
       "      <td>ІС-31</td>\n",
       "      <td>41.0</td>\n",
       "    </tr>\n",
       "    <tr>\n",
       "      <th>191</th>\n",
       "      <td>***айло</td>\n",
       "      <td>ІС-33</td>\n",
       "      <td>42.0</td>\n",
       "    </tr>\n",
       "    <tr>\n",
       "      <th>296</th>\n",
       "      <td>***Анна</td>\n",
       "      <td>ІС-31</td>\n",
       "      <td>42.0</td>\n",
       "    </tr>\n",
       "    <tr>\n",
       "      <th>199</th>\n",
       "      <td>***кита</td>\n",
       "      <td>ІС-31</td>\n",
       "      <td>43.0</td>\n",
       "    </tr>\n",
       "    <tr>\n",
       "      <th>226</th>\n",
       "      <td>***слав</td>\n",
       "      <td>ІС-34</td>\n",
       "      <td>43.0</td>\n",
       "    </tr>\n",
       "    <tr>\n",
       "      <th>219</th>\n",
       "      <td>***ирил</td>\n",
       "      <td>ІС-32</td>\n",
       "      <td>44.0</td>\n",
       "    </tr>\n",
       "    <tr>\n",
       "      <th>268</th>\n",
       "      <td>***нтон</td>\n",
       "      <td>ІС-33</td>\n",
       "      <td>44.0</td>\n",
       "    </tr>\n",
       "    <tr>\n",
       "      <th>294</th>\n",
       "      <td>***нтин</td>\n",
       "      <td>ІС-34</td>\n",
       "      <td>44.0</td>\n",
       "    </tr>\n",
       "  </tbody>\n",
       "</table>\n",
       "</div>"
      ],
      "text/plain": [
       "        Name  Group  Total score\n",
       "236  ***омир  ІС-33         30.0\n",
       "298  ***нило  ІС-34         33.0\n",
       "250  ***дан   ІС-31         40.0\n",
       "295  ***офія  ІС-33         40.0\n",
       "271  ***рина  ІС-31         41.0\n",
       "191  ***айло  ІС-33         42.0\n",
       "296  ***Анна  ІС-31         42.0\n",
       "199  ***кита  ІС-31         43.0\n",
       "226  ***слав  ІС-34         43.0\n",
       "219  ***ирил  ІС-32         44.0\n",
       "268  ***нтон  ІС-33         44.0\n",
       "294  ***нтин  ІС-34         44.0"
      ]
     },
     "execution_count": 83,
     "metadata": {},
     "output_type": "execute_result"
    }
   ],
   "source": [
    "cutoff = df['Total score'].quantile(0.1)\n",
    "worst_scores = df[df['Total score'] <= cutoff]\n",
    "worst_scores = worst_scores.sort_values('Total score')\n",
    "worst_scores[['Name', 'Group', 'Total score']]"
   ]
  },
  {
   "cell_type": "markdown",
   "metadata": {},
   "source": [
    "I will also show a less important rating. The top 10% best"
   ]
  },
  {
   "cell_type": "code",
   "execution_count": 84,
   "metadata": {},
   "outputs": [
    {
     "data": {
      "text/html": [
       "<div>\n",
       "<style scoped>\n",
       "    .dataframe tbody tr th:only-of-type {\n",
       "        vertical-align: middle;\n",
       "    }\n",
       "\n",
       "    .dataframe tbody tr th {\n",
       "        vertical-align: top;\n",
       "    }\n",
       "\n",
       "    .dataframe thead th {\n",
       "        text-align: right;\n",
       "    }\n",
       "</style>\n",
       "<table border=\"1\" class=\"dataframe\">\n",
       "  <thead>\n",
       "    <tr style=\"text-align: right;\">\n",
       "      <th></th>\n",
       "      <th>Name</th>\n",
       "      <th>Group</th>\n",
       "      <th>Total score</th>\n",
       "    </tr>\n",
       "  </thead>\n",
       "  <tbody>\n",
       "    <tr>\n",
       "      <th>184</th>\n",
       "      <td>***ртем</td>\n",
       "      <td>ІС-34</td>\n",
       "      <td>50.0</td>\n",
       "    </tr>\n",
       "    <tr>\n",
       "      <th>186</th>\n",
       "      <td>***ндра</td>\n",
       "      <td>ІС-34</td>\n",
       "      <td>50.0</td>\n",
       "    </tr>\n",
       "    <tr>\n",
       "      <th>289</th>\n",
       "      <td>***Тіна</td>\n",
       "      <td>ІС-32</td>\n",
       "      <td>50.0</td>\n",
       "    </tr>\n",
       "    <tr>\n",
       "      <th>287</th>\n",
       "      <td>***слав</td>\n",
       "      <td>ІС-34</td>\n",
       "      <td>50.0</td>\n",
       "    </tr>\n",
       "    <tr>\n",
       "      <th>286</th>\n",
       "      <td>***ніка</td>\n",
       "      <td>ІС-33</td>\n",
       "      <td>50.0</td>\n",
       "    </tr>\n",
       "    <tr>\n",
       "      <th>282</th>\n",
       "      <td>***азар</td>\n",
       "      <td>ІС-33</td>\n",
       "      <td>50.0</td>\n",
       "    </tr>\n",
       "    <tr>\n",
       "      <th>280</th>\n",
       "      <td>***енис</td>\n",
       "      <td>ІС-34</td>\n",
       "      <td>50.0</td>\n",
       "    </tr>\n",
       "    <tr>\n",
       "      <th>259</th>\n",
       "      <td>***ртем</td>\n",
       "      <td>ІС-31</td>\n",
       "      <td>50.0</td>\n",
       "    </tr>\n",
       "    <tr>\n",
       "      <th>256</th>\n",
       "      <td>***вара</td>\n",
       "      <td>ІС-33</td>\n",
       "      <td>50.0</td>\n",
       "    </tr>\n",
       "    <tr>\n",
       "      <th>255</th>\n",
       "      <td>***енія</td>\n",
       "      <td>ІС-32</td>\n",
       "      <td>50.0</td>\n",
       "    </tr>\n",
       "    <tr>\n",
       "      <th>253</th>\n",
       "      <td>***ерія</td>\n",
       "      <td>ІС-32</td>\n",
       "      <td>50.0</td>\n",
       "    </tr>\n",
       "    <tr>\n",
       "      <th>251</th>\n",
       "      <td>***дрій</td>\n",
       "      <td>ІС-34</td>\n",
       "      <td>50.0</td>\n",
       "    </tr>\n",
       "    <tr>\n",
       "      <th>241</th>\n",
       "      <td>***итро</td>\n",
       "      <td>ІС-34</td>\n",
       "      <td>50.0</td>\n",
       "    </tr>\n",
       "    <tr>\n",
       "      <th>239</th>\n",
       "      <td>***ксим</td>\n",
       "      <td>ІС-33</td>\n",
       "      <td>50.0</td>\n",
       "    </tr>\n",
       "    <tr>\n",
       "      <th>238</th>\n",
       "      <td>***іна</td>\n",
       "      <td>ІС-32</td>\n",
       "      <td>50.0</td>\n",
       "    </tr>\n",
       "    <tr>\n",
       "      <th>208</th>\n",
       "      <td>***арія</td>\n",
       "      <td>ІС-32</td>\n",
       "      <td>50.0</td>\n",
       "    </tr>\n",
       "    <tr>\n",
       "      <th>205</th>\n",
       "      <td>***ксим</td>\n",
       "      <td>ІС-33</td>\n",
       "      <td>50.0</td>\n",
       "    </tr>\n",
       "    <tr>\n",
       "      <th>202</th>\n",
       "      <td>***вген</td>\n",
       "      <td>ІС-31</td>\n",
       "      <td>50.0</td>\n",
       "    </tr>\n",
       "    <tr>\n",
       "      <th>192</th>\n",
       "      <td>***андр</td>\n",
       "      <td>ІС-32</td>\n",
       "      <td>50.0</td>\n",
       "    </tr>\n",
       "    <tr>\n",
       "      <th>190</th>\n",
       "      <td>***Ігор</td>\n",
       "      <td>ІС-32</td>\n",
       "      <td>50.0</td>\n",
       "    </tr>\n",
       "    <tr>\n",
       "      <th>189</th>\n",
       "      <td>***итро</td>\n",
       "      <td>ІС-32</td>\n",
       "      <td>50.0</td>\n",
       "    </tr>\n",
       "    <tr>\n",
       "      <th>290</th>\n",
       "      <td>***арія</td>\n",
       "      <td>ІС-33</td>\n",
       "      <td>50.0</td>\n",
       "    </tr>\n",
       "  </tbody>\n",
       "</table>\n",
       "</div>"
      ],
      "text/plain": [
       "        Name  Group  Total score\n",
       "184  ***ртем  ІС-34         50.0\n",
       "186  ***ндра  ІС-34         50.0\n",
       "289  ***Тіна  ІС-32         50.0\n",
       "287  ***слав  ІС-34         50.0\n",
       "286  ***ніка  ІС-33         50.0\n",
       "282  ***азар  ІС-33         50.0\n",
       "280  ***енис  ІС-34         50.0\n",
       "259  ***ртем  ІС-31         50.0\n",
       "256  ***вара  ІС-33         50.0\n",
       "255  ***енія  ІС-32         50.0\n",
       "253  ***ерія  ІС-32         50.0\n",
       "251  ***дрій  ІС-34         50.0\n",
       "241  ***итро  ІС-34         50.0\n",
       "239  ***ксим  ІС-33         50.0\n",
       "238  ***іна   ІС-32         50.0\n",
       "208  ***арія  ІС-32         50.0\n",
       "205  ***ксим  ІС-33         50.0\n",
       "202  ***вген  ІС-31         50.0\n",
       "192  ***андр  ІС-32         50.0\n",
       "190  ***Ігор  ІС-32         50.0\n",
       "189  ***итро  ІС-32         50.0\n",
       "290  ***арія  ІС-33         50.0"
      ]
     },
     "execution_count": 84,
     "metadata": {},
     "output_type": "execute_result"
    }
   ],
   "source": [
    "cutoff = df['Total score'].quantile(0.95)\n",
    "best_scores = df[df['Total score'] >= cutoff]\n",
    "best_scores = best_scores.sort_values('Total score', ascending=False)\n",
    "best_scores[['Name', 'Group', 'Total score']]"
   ]
  },
  {
   "cell_type": "markdown",
   "metadata": {},
   "source": [
    "And now let's move on to the groups and evaluate how each group did as a whole!\n",
    "\n",
    "To begin with, we need to understand what kind of sample we have, namely how many people from each group wrote the MKR. <br> The statistics are below."
   ]
  },
  {
   "cell_type": "code",
   "execution_count": 85,
   "metadata": {},
   "outputs": [
    {
     "name": "stdout",
     "output_type": "stream",
     "text": [
      "Group\n",
      "ІС-31    24\n",
      "ІС-32    24\n",
      "ІС-33    29\n",
      "ІС-34    29\n",
      "dtype: int64\n"
     ]
    }
   ],
   "source": [
    "group_counts = df.groupby('Group').size()\n",
    "print(group_counts)"
   ]
  },
  {
   "cell_type": "markdown",
   "metadata": {},
   "source": [
    "Now let's summarize the number of points per group.\n",
    "<br>It is important to understand that only 24 people from the two groups wrote MKR. \n",
    "<br> Therefore, we can actually compare them only two by two (24-24 and 29-29) \n",
    "<br> And to summarize: \n",
    "- IC-32 did better than IC-31\n",
    "- IC-34 did better than IC-33"
   ]
  },
  {
   "cell_type": "code",
   "execution_count": 86,
   "metadata": {},
   "outputs": [
    {
     "name": "stdout",
     "output_type": "stream",
     "text": [
      "Group\n",
      "ІС-31    1122.0\n",
      "ІС-32    1158.0\n",
      "ІС-33    1365.0\n",
      "ІС-34    1376.0\n",
      "Name: Total score, dtype: float64\n"
     ]
    }
   ],
   "source": [
    "group_respondent_totals = df.groupby(['Group'])['Total score'].sum()\n",
    "print(group_respondent_totals)"
   ]
  },
  {
   "cell_type": "markdown",
   "metadata": {},
   "source": [
    "Finally, let's compare the average scores of each group. This is the best metric to help us determine the winner! "
   ]
  },
  {
   "cell_type": "code",
   "execution_count": 87,
   "metadata": {},
   "outputs": [
    {
     "name": "stdout",
     "output_type": "stream",
     "text": [
      "Group\n",
      "ІС-32    48.250000\n",
      "ІС-34    47.448276\n",
      "ІС-33    47.068966\n",
      "ІС-31    46.750000\n",
      "Name: Total score, dtype: float64\n"
     ]
    }
   ],
   "source": [
    "group_averages = df.groupby('Group')['Total score'].mean()\n",
    "group_averages = group_averages.sort_values(ascending=False)\n",
    "\n",
    "print(group_averages)"
   ]
  },
  {
   "cell_type": "markdown",
   "metadata": {},
   "source": [
    "The winner is the IS-32, followed by the IC-34. "
   ]
  },
  {
   "cell_type": "markdown",
   "metadata": {},
   "source": [
    "# Afterword "
   ]
  },
  {
   "cell_type": "markdown",
   "metadata": {},
   "source": [
    "Well, that's it. <br> If you were interested, you can buy me a coffee) \n",
    "<br>Monobank: `4441111130069218`\n",
    "<br> EDA by Ihor Kolosov, also known as Sofa ( Софа ), Akiyama\n",
    "<br> My contacts:\n",
    "- [Telegram](https://t.me/akiyama_kiyoshi)\n",
    "- [Github](https://github.com/Ak1yamaKiyoshi)\n",
    "- [LinkedIn](https://www.linkedin.com/in/ihor-kolosov-52b98223a/)"
   ]
  }
 ],
 "metadata": {
  "kernelspec": {
   "display_name": "Python 3",
   "language": "python",
   "name": "python3"
  },
  "language_info": {
   "codemirror_mode": {
    "name": "ipython",
    "version": 3
   },
   "file_extension": ".py",
   "mimetype": "text/x-python",
   "name": "python",
   "nbconvert_exporter": "python",
   "pygments_lexer": "ipython3",
   "version": "3.12.1"
  }
 },
 "nbformat": 4,
 "nbformat_minor": 2
}
