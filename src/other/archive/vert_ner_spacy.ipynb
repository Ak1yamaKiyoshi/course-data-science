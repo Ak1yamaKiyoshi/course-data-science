{
  "nbformat": 4,
  "nbformat_minor": 0,
  "metadata": {
    "colab": {
      "provenance": []
    },
    "kernelspec": {
      "name": "python3",
      "display_name": "Python 3"
    },
    "language_info": {
      "name": "python"
    }
  },
  "cells": [
    {
      "cell_type": "code",
      "source": [
        "# install spacy\n",
        "#!pip install --upgrade spacy\n",
        "#!pip install spacy-transformers -q\n",
        "#!python -m spacy download en\n",
        "#!python -m spacy download en_core_web_lg\n",
        "#!python -m spacy download en_core_web_trf\n",
        "#!-m pip install --upgrade transformers\n",
        "#!python -m spacy download en_trf_bertbaseuncased_lg"
      ],
      "metadata": {
        "id": "gWDD-jceMkfp"
      },
      "execution_count": 25,
      "outputs": []
    },
    {
      "cell_type": "code",
      "source": [],
      "metadata": {
        "id": "lIjf_CIIObG6"
      },
      "execution_count": 25,
      "outputs": []
    },
    {
      "cell_type": "code",
      "execution_count": 26,
      "metadata": {
        "id": "McyCgR9uLkaX"
      },
      "outputs": [],
      "source": [
        "import pandas as pd\n",
        "import numpy as np\n",
        "from spacy.training.example import Example\n",
        "import spacy\n",
        "from spacy.tokens import Doc, Token\n",
        "import random"
      ]
    },
    {
      "cell_type": "code",
      "source": [],
      "metadata": {
        "id": "zrNDCRXoavf4"
      },
      "execution_count": 26,
      "outputs": []
    },
    {
      "cell_type": "code",
      "source": [
        "data_path = '/content/dataset_short.csv'\n",
        "df = pd.read_csv(data_path, delimiter=\",\",  error_bad_lines=False )\n",
        "print(df.sample(5))\n",
        "df.info()"
      ],
      "metadata": {
        "colab": {
          "base_uri": "https://localhost:8080/"
        },
        "id": "A0NxszkJMOyh",
        "outputId": "bf4956a8-de33-4af9-ba46-91c04d7aac9a"
      },
      "execution_count": 27,
      "outputs": [
        {
          "output_type": "stream",
          "name": "stdout",
          "text": [
            "      sentence#    word     label\n",
            "1825       5427      by         O\n",
            "1537       5392    Gora         O\n",
            "407        5258     the         O\n",
            "2694       5540      of         O\n",
            "3468       5629  Hostra  Mountain\n",
            "<class 'pandas.core.frame.DataFrame'>\n",
            "RangeIndex: 5134 entries, 0 to 5133\n",
            "Data columns (total 3 columns):\n",
            " #   Column     Non-Null Count  Dtype \n",
            "---  ------     --------------  ----- \n",
            " 0   sentence#  5134 non-null   int64 \n",
            " 1   word       5134 non-null   object\n",
            " 2   label      5134 non-null   object\n",
            "dtypes: int64(1), object(2)\n",
            "memory usage: 120.5+ KB\n"
          ]
        },
        {
          "output_type": "stream",
          "name": "stderr",
          "text": [
            "<ipython-input-27-e4dff20f80bd>:2: FutureWarning: The error_bad_lines argument has been deprecated and will be removed in a future version. Use on_bad_lines in the future.\n",
            "\n",
            "\n",
            "  df = pd.read_csv(data_path, delimiter=\",\",  error_bad_lines=False )\n"
          ]
        }
      ]
    },
    {
      "cell_type": "code",
      "source": [
        "nlp = spacy.load('en_core_web_trf')"
      ],
      "metadata": {
        "id": "ZxSwz9NFMVNB"
      },
      "execution_count": 28,
      "outputs": []
    },
    {
      "cell_type": "code",
      "source": [
        "training_data = []\n",
        "for sentence_id, group in df.groupby('sentence#'):\n",
        "    words = group['word'].tolist()\n",
        "    labels = group['label'].tolist()\n",
        "\n",
        "    # Convert words to a list of strings\n",
        "    words = [str(word) for word in words]\n",
        "\n",
        "    # Create a Doc object from the words\n",
        "    doc = Doc(nlp.vocab, words=words)\n",
        "\n",
        "    # Create a list of entities in BIO format\n",
        "    entities = []\n",
        "    start = 0\n",
        "    for word, label in zip(words, labels):\n",
        "      end = start + len(word)\n",
        "      # Map all labels other than 'Mountain' to 'O'\n",
        "      entity_label = 'Mountain' if label == 'Mountain' else 'O'\n",
        "      entities.append((start, end, doc.vocab.strings[entity_label]))\n",
        "      start = end + 1  # Assuming words are separated by a single space\n",
        "\n",
        "\n",
        "    # Add the example to the training data\n",
        "    example = Example.from_dict(doc, {\"entities\": entities})\n",
        "    training_data.append(example)\n"
      ],
      "metadata": {
        "id": "XmOg02lXYhw6"
      },
      "execution_count": 29,
      "outputs": []
    },
    {
      "cell_type": "code",
      "source": [
        "\n",
        "ner = nlp.get_pipe('ner')\n"
      ],
      "metadata": {
        "colab": {
          "base_uri": "https://localhost:8080/"
        },
        "id": "Cafypl8XUT-z",
        "outputId": "1e2602e6-83c2-4aa9-a094-2e0064c5ce79"
      },
      "execution_count": 32,
      "outputs": [
        {
          "output_type": "execute_result",
          "data": {
            "text/plain": [
              "<spacy.pipeline.ner.EntityRecognizer at 0x7f823610bbc0>"
            ]
          },
          "metadata": {},
          "execution_count": 32
        }
      ]
    },
    {
      "cell_type": "code",
      "source": [],
      "metadata": {
        "id": "Z_roOedkaei8"
      },
      "execution_count": null,
      "outputs": []
    },
    {
      "cell_type": "code",
      "source": [
        "import time\n",
        "# Update the model with your training data\n",
        "for epoch in range(1):  # adjust the number of epochs as needed\n",
        "    # Shuffle the training data\n",
        "    spacy.util.fix_random_seed(1)\n",
        "    random.shuffle(training_data)\n",
        "\n",
        "    # Iterate over batches\n",
        "    steps = 1\n",
        "    BATCH_SIZE = 64\n",
        "    for i, batch in enumerate(spacy.util.minibatch(training_data, size=BATCH_SIZE)):\n",
        "        step_start = time.time()\n",
        "        nlp.update(batch)\n",
        "\n",
        "        step_end = time.time()\n",
        "        step = step_end - step_start\n",
        "        steps += step\n",
        "        avg_time_per_step = steps / (i+1)\n",
        "        steps_remained = (len(training_data)//BATCH_SIZE - (i))\n",
        "        estimated = avg_time_per_step * steps_remained\n",
        "\n",
        "        print(f\"{i+1:03d}/{len(training_data)//BATCH_SIZE+1:03d}; step: {round(step, 1)}; ETA: {round(estimated, 1)} seconds\", end='\\r')\n",
        "    print()"
      ],
      "metadata": {
        "colab": {
          "base_uri": "https://localhost:8080/"
        },
        "id": "s8dqrPv8agZx",
        "outputId": "c1316726-f8fa-435a-9077-6adc9312014c"
      },
      "execution_count": 34,
      "outputs": [
        {
          "output_type": "stream",
          "name": "stdout",
          "text": [
            " 010/010; step: 18.3; ETA: -18.9 seconds\n"
          ]
        }
      ]
    },
    {
      "cell_type": "code",
      "source": [
        "text_to_predict = \" I'll visit Ukraine in 4 days\"\n",
        "doc = nlp(text_to_predict)\n",
        "\n",
        "for ent in doc.ents:\n",
        "    if (ent.label_ == \"GPE\" or ent.label_ == \"LOC\" or ent.label_ == \"FAC\"):\n",
        "      print(f\"Entity: {ent.text}, Label: {ent.label_}\")\n",
        "    else: print(ent.label_)"
      ],
      "metadata": {
        "colab": {
          "base_uri": "https://localhost:8080/"
        },
        "id": "ZfgiKCledR5p",
        "outputId": "b2dd38af-a053-4655-eb1e-6419f1a352b0"
      },
      "execution_count": 54,
      "outputs": [
        {
          "output_type": "stream",
          "name": "stdout",
          "text": [
            "Entity: Ukraine, Label: GPE\n",
            "DATE\n"
          ]
        }
      ]
    }
  ]
}