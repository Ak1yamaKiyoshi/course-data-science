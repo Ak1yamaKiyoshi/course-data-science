{
  "nbformat": 4,
  "nbformat_minor": 0,
  "metadata": {
    "colab": {
      "provenance": []
    },
    "kernelspec": {
      "name": "python3",
      "display_name": "Python 3"
    },
    "language_info": {
      "name": "python"
    }
  },
  "cells": [
    {
      "cell_type": "markdown",
      "source": [
        "# BERT Pre-trained based NER model"
      ],
      "metadata": {
        "id": "iSOZ8J4rXVJl"
      }
    },
    {
      "cell_type": "markdown",
      "source": [
        "### Installing dependencies\n",
        "- Transformers for BERT pre-trained model\n",
        "\n"
      ],
      "metadata": {
        "id": "qS8_FqrLXqQg"
      }
    },
    {
      "cell_type": "code",
      "execution_count": 219,
      "metadata": {
        "id": "8P-IkOYbXOrb"
      },
      "outputs": [],
      "source": [
        "#!pip install pandas transformers tensorflow scikit-learn"
      ]
    },
    {
      "cell_type": "markdown",
      "source": [
        "### Setup"
      ],
      "metadata": {
        "id": "BCXThs8CX5A5"
      }
    },
    {
      "cell_type": "code",
      "source": [
        "import tensorflow as tf\n",
        "from transformers import BertTokenizer, TFBertForTokenClassification\n",
        "from sklearn.model_selection import train_test_split\n",
        "from tqdm import tqdm\n",
        "import numpy as np\n",
        "import pandas as pd\n",
        "from transformers import BertTokenizerFast\n",
        "from transformers import TFBertModel\n",
        "from sklearn.model_selection import train_test_split\n",
        "from sklearn import preprocessing"
      ],
      "metadata": {
        "id": "E4yDYFBeXscu"
      },
      "execution_count": 220,
      "outputs": []
    },
    {
      "cell_type": "code",
      "source": [
        "# Temporary data in format:\n",
        "\"\"\"\n",
        "[\n",
        "  [\"id\", \"Sentence\", \"Desired Word\", \"POS\", \"Tag\"]\n",
        "]\n",
        "\"\"\""
      ],
      "metadata": {
        "colab": {
          "base_uri": "https://localhost:8080/",
          "height": 35
        },
        "id": "MoPAHks1Ywxo",
        "outputId": "e430c10c-6fbc-4ad8-8719-a44b0f6a27d5"
      },
      "execution_count": 221,
      "outputs": [
        {
          "output_type": "execute_result",
          "data": {
            "text/plain": [
              "' \\n[\\n  [\"id\", \"Sentence\", \"Desired Word\", \"POS\", \"Tag\"]\\n]\\n'"
            ],
            "application/vnd.google.colaboratory.intrinsic+json": {
              "type": "string"
            }
          },
          "metadata": {},
          "execution_count": 221
        }
      ]
    },
    {
      "cell_type": "code",
      "source": [
        "data = [\n",
        "    [\"NN\", \"Mount\", \"Mountain\"],\n",
        "    [\"NN\", \"Everest\", \"Mountain\"],\n",
        "    [\"NNP\", \"K2\", \"Mountain\"],\n",
        "    [\"NN\", \"Kangchenjunga\", \"Mountain\"],\n",
        "    [\"NNP\", \"Lhotse\", \"Mountain\"],\n",
        "    [\"NNP\", \"Makalu\", \"Mountain\"],\n",
        "    [\"NN\", \"Cho\", \"Mountain\"],\n",
        "    [\"NN\", \"Oyu\", \"Mountain\"],\n",
        "    [\"NNP\", \"Dhaulagiri\", \"Mountain\"],\n",
        "    [\"NNP\", \"Manaslu\", \"Mountain\"],\n",
        "    [\"NNP\", \"Nanga\", \"Mountain\"],\n",
        "    [\"NNP\", \"Parbat\", \"Mountain\"],\n",
        "    [\"NNP\", \"Annapurna\", \"Mountain\"],\n",
        "    [\"NN\", \"Gasherbrum\", \"Mountain\"],\n",
        "    [\"NN\", \"Broad\", \"Mountain\"],\n",
        "    [\"NNP\", \"Peak\", \"Mountain\"],\n",
        "    [\"NN\", \"Gasherbrum\", \"Mountain\"],\n",
        "    [\"NNP\", \"Shishapangma\", \"Mountain\"],\n",
        "    [\"NN\", \"Masherbrum\", \"Mountain\"],\n",
        "    [\"NNP\", \"Rakaposhi\", \"Mountain\"],\n",
        "    [\"NNP\", \"Tirich\", \"Mountain\"],\n",
        "    [\"NNP\", \"Mir\", \"Mountain\"],\n",
        "    [\"NNP\", \"Namcha\", \"Mountain\"],\n",
        "    [\"NNP\", \"Barwa\", \"Mountain\"],\n",
        "    [\"NNP\", \"Gangkhar\", \"Mountain\"],\n",
        "    [\"NNP\", \"Puensum\", \"Mountain\"],\n",
        "    [\"NNP\", \"Jomolhari\", \"Mountain\"],\n",
        "    [\"NNP\", \"Yerupaja\", \"Mountain\"],\n",
        "    [\"NNP\", \"Coropuna\", \"Mountain\"],\n",
        "    [\"NNP\", \"Huascarán\", \"Mountain\"],\n",
        "    [\"NNP\", \"Alpamayo\", \"Mountain\"],\n",
        "    [\"NNP\", \"Artesonraju\", \"Mountain\"],\n",
        "    [\"NNP\", \"Aconcagua\", \"Mountain\"],\n",
        "    [\"NNP\", \"Ojos\", \"Mountain\"],\n",
        "    [\"NNP\", \"del\", \"Mountain\"],\n",
        "    [\"NNP\", \"Salado\", \"Mountain\"],\n",
        "    [\"NNP\", \"Huascaran\", \"Mountain\"],\n",
        "    [\"NNP\", \"Illimani\", \"Mountain\"],\n",
        "    [\"NNP\", \"Sajama\", \"Mountain\"],\n",
        "    [\"NNP\", \"Cotopaxi\", \"Mountain\"],\n",
        "    [\"NNP\", \"Chimborazo\", \"Mountain\"],\n",
        "    [\"NNP\", \"Cayambe\", \"Mountain\"],\n",
        "    [\"NNP\", \"Antisana\", \"Mountain\"],\n",
        "    [\"NNP\", \"Carihuairazo\", \"Mountain\"],\n",
        "    [\"NNP\", \"Elbrus\", \"Mountain\"],\n",
        "    [\"NNP\", \"Dykh-Tau\", \"Mountain\"],\n",
        "    [\"NNP\", \"Shkhara\", \"Mountain\"],\n",
        "    [\"NNP\", \"Koshtan-Tau\", \"Mountain\"],\n",
        "    [\"NNP\", \"Janga\", \"Mountain\"],\n",
        "    [\"NNP\", \"Ushba\", \"Mountain\"],\n",
        "    [\"NNP\", \"Kazbek\", \"Mountain\"],\n",
        "    [\"NNP\", \"Dombay-Ulgen\", \"Mountain\"],\n",
        "    [\"NNP\", \"Elbrus\", \"Mountain\"],\n",
        "    [\"NNP\", \"Uraltau\", \"Mountain\"],\n",
        "    [\"NNP\", \"Chatkal\", \"Mountain\"],\n",
        "    [\"NNP\", \"Pik\", \"Mountain\"],\n",
        "    [\"NNP\", \"Talgar\", \"Mountain\"],\n",
        "]\n",
        "\n",
        "# Create a Pandas DataFrame\n",
        "df = pd.DataFrame(data, columns=[\"POS\", \"Word\", \"Tag\"])\n",
        "print(df)"
      ],
      "metadata": {
        "colab": {
          "base_uri": "https://localhost:8080/"
        },
        "id": "0NUzrDbgYyS4",
        "outputId": "98a77d4c-8cbf-4638-aeea-d33e737eec45"
      },
      "execution_count": 222,
      "outputs": [
        {
          "output_type": "stream",
          "name": "stdout",
          "text": [
            "    POS           Word       Tag\n",
            "0    NN          Mount  Mountain\n",
            "1    NN        Everest  Mountain\n",
            "2   NNP             K2  Mountain\n",
            "3    NN  Kangchenjunga  Mountain\n",
            "4   NNP         Lhotse  Mountain\n",
            "5   NNP         Makalu  Mountain\n",
            "6    NN            Cho  Mountain\n",
            "7    NN            Oyu  Mountain\n",
            "8   NNP     Dhaulagiri  Mountain\n",
            "9   NNP        Manaslu  Mountain\n",
            "10  NNP          Nanga  Mountain\n",
            "11  NNP         Parbat  Mountain\n",
            "12  NNP      Annapurna  Mountain\n",
            "13   NN     Gasherbrum  Mountain\n",
            "14   NN          Broad  Mountain\n",
            "15  NNP           Peak  Mountain\n",
            "16   NN     Gasherbrum  Mountain\n",
            "17  NNP   Shishapangma  Mountain\n",
            "18   NN     Masherbrum  Mountain\n",
            "19  NNP      Rakaposhi  Mountain\n",
            "20  NNP         Tirich  Mountain\n",
            "21  NNP            Mir  Mountain\n",
            "22  NNP         Namcha  Mountain\n",
            "23  NNP          Barwa  Mountain\n",
            "24  NNP       Gangkhar  Mountain\n",
            "25  NNP        Puensum  Mountain\n",
            "26  NNP      Jomolhari  Mountain\n",
            "27  NNP       Yerupaja  Mountain\n",
            "28  NNP       Coropuna  Mountain\n",
            "29  NNP      Huascarán  Mountain\n",
            "30  NNP       Alpamayo  Mountain\n",
            "31  NNP    Artesonraju  Mountain\n",
            "32  NNP      Aconcagua  Mountain\n",
            "33  NNP           Ojos  Mountain\n",
            "34  NNP            del  Mountain\n",
            "35  NNP         Salado  Mountain\n",
            "36  NNP      Huascaran  Mountain\n",
            "37  NNP       Illimani  Mountain\n",
            "38  NNP         Sajama  Mountain\n",
            "39  NNP       Cotopaxi  Mountain\n",
            "40  NNP     Chimborazo  Mountain\n",
            "41  NNP        Cayambe  Mountain\n",
            "42  NNP       Antisana  Mountain\n",
            "43  NNP   Carihuairazo  Mountain\n",
            "44  NNP         Elbrus  Mountain\n",
            "45  NNP       Dykh-Tau  Mountain\n",
            "46  NNP        Shkhara  Mountain\n",
            "47  NNP    Koshtan-Tau  Mountain\n",
            "48  NNP          Janga  Mountain\n",
            "49  NNP          Ushba  Mountain\n",
            "50  NNP         Kazbek  Mountain\n",
            "51  NNP   Dombay-Ulgen  Mountain\n",
            "52  NNP         Elbrus  Mountain\n",
            "53  NNP        Uraltau  Mountain\n",
            "54  NNP        Chatkal  Mountain\n",
            "55  NNP            Pik  Mountain\n",
            "56  NNP         Talgar  Mountain\n"
          ]
        }
      ]
    },
    {
      "cell_type": "code",
      "source": [
        "sentence = df[\"Word\"].apply(list).values\n",
        "pos =      df['POS'].apply(list).values\n",
        "tag =      df['Tag'].apply(list).values"
      ],
      "metadata": {
        "id": "cbTSQoaL16Z7"
      },
      "execution_count": 223,
      "outputs": []
    },
    {
      "cell_type": "code",
      "source": [
        "def process_data(df):\n",
        "    enc_pos = preprocessing.LabelEncoder()\n",
        "    enc_tag = preprocessing.LabelEncoder()\n",
        "\n",
        "    df.loc[:, \"POS\"] = enc_pos.fit_transform(df[\"POS\"])\n",
        "    df.loc[:, \"Tag\"] = enc_tag.fit_transform(df[\"Tag\"])\n",
        "\n",
        "    sentences = df.groupby(\"POS\")[\"Word\"].apply(list).values\n",
        "    pos = df.groupby(\"POS\")[\"POS\"].apply(list).values\n",
        "    tag = df.groupby(\"POS\")[\"Tag\"].apply(list).values\n",
        "    return sentences, pos, tag, enc_pos, enc_tag\n",
        "\n",
        "sentence,pos,tag,enc_pos,enc_tag = process_data(df)\n",
        "print(sentence)\n",
        "print(pos)\n",
        "print(tag)\n",
        "print(enc_pos)\n",
        "print(enc_tag)"
      ],
      "metadata": {
        "colab": {
          "base_uri": "https://localhost:8080/"
        },
        "id": "TPMUCHoL2cwG",
        "outputId": "8d2f6daa-c399-40ef-b4b4-5b341c05479d"
      },
      "execution_count": 224,
      "outputs": [
        {
          "output_type": "stream",
          "name": "stdout",
          "text": [
            "[list(['Mount', 'Everest', 'Kangchenjunga', 'Cho', 'Oyu', 'Gasherbrum', 'Broad', 'Gasherbrum', 'Masherbrum'])\n",
            " list(['K2', 'Lhotse', 'Makalu', 'Dhaulagiri', 'Manaslu', 'Nanga', 'Parbat', 'Annapurna', 'Peak', 'Shishapangma', 'Rakaposhi', 'Tirich', 'Mir', 'Namcha', 'Barwa', 'Gangkhar', 'Puensum', 'Jomolhari', 'Yerupaja', 'Coropuna', 'Huascarán', 'Alpamayo', 'Artesonraju', 'Aconcagua', 'Ojos', 'del', 'Salado', 'Huascaran', 'Illimani', 'Sajama', 'Cotopaxi', 'Chimborazo', 'Cayambe', 'Antisana', 'Carihuairazo', 'Elbrus', 'Dykh-Tau', 'Shkhara', 'Koshtan-Tau', 'Janga', 'Ushba', 'Kazbek', 'Dombay-Ulgen', 'Elbrus', 'Uraltau', 'Chatkal', 'Pik', 'Talgar'])]\n",
            "[list([0, 0, 0, 0, 0, 0, 0, 0, 0])\n",
            " list([1, 1, 1, 1, 1, 1, 1, 1, 1, 1, 1, 1, 1, 1, 1, 1, 1, 1, 1, 1, 1, 1, 1, 1, 1, 1, 1, 1, 1, 1, 1, 1, 1, 1, 1, 1, 1, 1, 1, 1, 1, 1, 1, 1, 1, 1, 1, 1])]\n",
            "[list([0, 0, 0, 0, 0, 0, 0, 0, 0])\n",
            " list([0, 0, 0, 0, 0, 0, 0, 0, 0, 0, 0, 0, 0, 0, 0, 0, 0, 0, 0, 0, 0, 0, 0, 0, 0, 0, 0, 0, 0, 0, 0, 0, 0, 0, 0, 0, 0, 0, 0, 0, 0, 0, 0, 0, 0, 0, 0, 0])]\n",
            "LabelEncoder()\n",
            "LabelEncoder()\n"
          ]
        },
        {
          "output_type": "stream",
          "name": "stderr",
          "text": [
            "<ipython-input-224-5438d8ce8564>:5: DeprecationWarning: In a future version, `df.iloc[:, i] = newvals` will attempt to set the values inplace instead of always setting a new array. To retain the old behavior, use either `df[df.columns[i]] = newvals` or, if columns are non-unique, `df.isetitem(i, newvals)`\n",
            "  df.loc[:, \"POS\"] = enc_pos.fit_transform(df[\"POS\"])\n",
            "<ipython-input-224-5438d8ce8564>:6: DeprecationWarning: In a future version, `df.iloc[:, i] = newvals` will attempt to set the values inplace instead of always setting a new array. To retain the old behavior, use either `df[df.columns[i]] = newvals` or, if columns are non-unique, `df.isetitem(i, newvals)`\n",
            "  df.loc[:, \"Tag\"] = enc_tag.fit_transform(df[\"Tag\"])\n"
          ]
        }
      ]
    },
    {
      "cell_type": "code",
      "source": [
        "tokenizer = BertTokenizerFast.from_pretrained('bert-base-uncased')\n",
        "MAX_LEN = 128"
      ],
      "metadata": {
        "id": "T78v5qLN3hYz"
      },
      "execution_count": 225,
      "outputs": []
    },
    {
      "cell_type": "code",
      "source": [
        "def tokenize(data, max_len=MAX_LEN):\n",
        "    input_ids = list()\n",
        "    attention_mask = list()\n",
        "    for i in tqdm(range(len(data))):\n",
        "        encoded = tokenizer.encode_plus(data[i],\n",
        "                                        add_special_tokens = True,\n",
        "                                        max_length = MAX_LEN,\n",
        "                                        is_split_into_words=True,\n",
        "                                        return_attention_mask=True,\n",
        "                                        padding = 'max_length',\n",
        "                                        truncation=True,return_tensors = 'np')\n",
        "\n",
        "\n",
        "        input_ids.append(encoded['input_ids'])\n",
        "        attention_mask.append(encoded['attention_mask'])\n",
        "    return np.vstack(input_ids),np.vstack(attention_mask)"
      ],
      "metadata": {
        "id": "CFuJTO953uba"
      },
      "execution_count": 226,
      "outputs": []
    },
    {
      "cell_type": "code",
      "source": [
        "X_train,X_test,y_train,y_test = train_test_split(sentence,tag,random_state=42,test_size=0.1)\n",
        "X_train.shape,X_test.shape,y_train.shape,y_test.shape\n"
      ],
      "metadata": {
        "colab": {
          "base_uri": "https://localhost:8080/"
        },
        "id": "cZhlOQe330wb",
        "outputId": "aeea3a60-2ee5-4f12-ec3a-b11de4c28ca0"
      },
      "execution_count": 227,
      "outputs": [
        {
          "output_type": "execute_result",
          "data": {
            "text/plain": [
              "((1,), (1,), (1,), (1,))"
            ]
          },
          "metadata": {},
          "execution_count": 227
        }
      ]
    },
    {
      "cell_type": "code",
      "source": [
        "input_ids,attention_mask = tokenize(X_train,max_len = MAX_LEN)"
      ],
      "metadata": {
        "colab": {
          "base_uri": "https://localhost:8080/"
        },
        "id": "Lhn3K0XK38_7",
        "outputId": "89da17da-1f09-4114-8a76-e9fad3a7acf3"
      },
      "execution_count": 228,
      "outputs": [
        {
          "output_type": "stream",
          "name": "stderr",
          "text": [
            "100%|██████████| 1/1 [00:00<00:00, 489.30it/s]\n"
          ]
        }
      ]
    },
    {
      "cell_type": "code",
      "source": [
        "val_input_ids,val_attention_mask = tokenize(X_test,max_len = MAX_LEN)"
      ],
      "metadata": {
        "colab": {
          "base_uri": "https://localhost:8080/"
        },
        "id": "knVVHQTX3_ek",
        "outputId": "1266ecb5-736f-4d5e-edf4-2ec8c381e966"
      },
      "execution_count": 229,
      "outputs": [
        {
          "output_type": "stream",
          "name": "stderr",
          "text": [
            "100%|██████████| 1/1 [00:00<00:00, 517.24it/s]\n"
          ]
        }
      ]
    },
    {
      "cell_type": "markdown",
      "source": [
        "# Test padding and truncation lenght"
      ],
      "metadata": {
        "id": "ELjmbUP34Dlr"
      }
    },
    {
      "cell_type": "code",
      "source": [
        "# TEST: Checking Padding and Truncation length's\n",
        "was = list()\n",
        "for i in range(len(input_ids)):\n",
        "    was.append(len(input_ids[i]))\n",
        "set(was)"
      ],
      "metadata": {
        "colab": {
          "base_uri": "https://localhost:8080/"
        },
        "id": "w94rPliP4BwD",
        "outputId": "44645a01-833f-486d-e3bf-6775acf9a66f"
      },
      "execution_count": 230,
      "outputs": [
        {
          "output_type": "execute_result",
          "data": {
            "text/plain": [
              "{128}"
            ]
          },
          "metadata": {},
          "execution_count": 230
        }
      ]
    },
    {
      "cell_type": "code",
      "source": [
        "# Train Padding\n",
        "train_tag = list()\n",
        "for i in range(len(y_train)):\n",
        "    train_tag.append(np.array(y_train[i] + [0] * (128-len(y_train[i]))))\n",
        "\n",
        "# TEST:  Checking Padding Length\n",
        "was = list()\n",
        "for i in range(len(train_tag)):\n",
        "    was.append(len(train_tag[i]))\n",
        "set(was)"
      ],
      "metadata": {
        "colab": {
          "base_uri": "https://localhost:8080/"
        },
        "id": "W0xE8dB-4KTK",
        "outputId": "e2fa53b7-ddff-46f7-e1fc-caa2ef2a5ea4"
      },
      "execution_count": 231,
      "outputs": [
        {
          "output_type": "execute_result",
          "data": {
            "text/plain": [
              "{128}"
            ]
          },
          "metadata": {},
          "execution_count": 231
        }
      ]
    },
    {
      "cell_type": "code",
      "source": [
        "# Train Padding\n",
        "test_tag = list()\n",
        "for i in range(len(y_test)):\n",
        "    test_tag.append(np.array(y_test[i] + [0] * (128-len(y_test[i]))))\n",
        "\n",
        "# TEST:  Checking Padding Length\n",
        "was = list()\n",
        "for i in range(len(test_tag)):\n",
        "    was.append(len(test_tag[i]))\n",
        "set(was)"
      ],
      "metadata": {
        "colab": {
          "base_uri": "https://localhost:8080/"
        },
        "id": "8ZbMv-x-4M7z",
        "outputId": "c13cabde-9c95-4d50-d869-12a64afb9358"
      },
      "execution_count": 232,
      "outputs": [
        {
          "output_type": "execute_result",
          "data": {
            "text/plain": [
              "{128}"
            ]
          },
          "metadata": {},
          "execution_count": 232
        }
      ]
    },
    {
      "cell_type": "markdown",
      "source": [
        "# Building a model"
      ],
      "metadata": {
        "id": "NlyoaLAc4NsD"
      }
    },
    {
      "cell_type": "code",
      "source": [
        "# bert_model = TFBertModel.from_pretrained('bert-base-uncased')\n",
        "\n",
        "def create_model(bert_model,max_len = MAX_LEN):\n",
        "    input_ids = tf.keras.Input(shape = (max_len,),dtype = 'int32')\n",
        "    attention_masks = tf.keras.Input(shape = (max_len,),dtype = 'int32')\n",
        "    bert_output = bert_model(input_ids,attention_mask = attention_masks,return_dict =True)\n",
        "    embedding = tf.keras.layers.Dropout(0.3)(bert_output[\"last_hidden_state\"])\n",
        "    output = tf.keras.layers.Dense(17,activation = 'softmax')(embedding)\n",
        "    model = tf.keras.models.Model(inputs = [input_ids,attention_masks],outputs = [output])\n",
        "    model.compile(optimizer=tf.keras.optimizers.Adam(lr=0.00001), loss=\"sparse_categorical_crossentropy\", metrics=[\"accuracy\"])\n",
        "    return model"
      ],
      "metadata": {
        "id": "FyL5tWe74PNa"
      },
      "execution_count": 233,
      "outputs": []
    },
    {
      "cell_type": "code",
      "source": [
        "with strategy.scope():\n",
        "    bert_model = TFBertModel.from_pretrained('bert-base-uncased')\n",
        "    model = create_model(bert_model,MAX_LEN)"
      ],
      "metadata": {
        "colab": {
          "base_uri": "https://localhost:8080/"
        },
        "id": "wv_TnBS14UDy",
        "outputId": "be1ddba1-4b83-4808-94ef-b66cebc89463"
      },
      "execution_count": 234,
      "outputs": [
        {
          "output_type": "stream",
          "name": "stderr",
          "text": [
            "Some weights of the PyTorch model were not used when initializing the TF 2.0 model TFBertModel: ['cls.seq_relationship.bias', 'cls.predictions.transform.dense.weight', 'cls.predictions.transform.LayerNorm.bias', 'cls.predictions.transform.dense.bias', 'cls.predictions.bias', 'cls.predictions.transform.LayerNorm.weight', 'cls.seq_relationship.weight']\n",
            "- This IS expected if you are initializing TFBertModel from a PyTorch model trained on another task or with another architecture (e.g. initializing a TFBertForSequenceClassification model from a BertForPreTraining model).\n",
            "- This IS NOT expected if you are initializing TFBertModel from a PyTorch model that you expect to be exactly identical (e.g. initializing a TFBertForSequenceClassification model from a BertForSequenceClassification model).\n",
            "All the weights of TFBertModel were initialized from the PyTorch model.\n",
            "If your task is similar to the task the model of the checkpoint was trained on, you can already use TFBertModel for predictions without further training.\n",
            "WARNING:absl:`lr` is deprecated in Keras optimizer, please use `learning_rate` or use the legacy optimizer, e.g.,tf.keras.optimizers.legacy.Adam.\n"
          ]
        }
      ]
    },
    {
      "cell_type": "code",
      "source": [
        "model.summary()"
      ],
      "metadata": {
        "colab": {
          "base_uri": "https://localhost:8080/"
        },
        "id": "n5n73Xsz4zXr",
        "outputId": "d9cb2fbb-32c1-4ab7-d83b-2907d05e7272"
      },
      "execution_count": 235,
      "outputs": [
        {
          "output_type": "stream",
          "name": "stdout",
          "text": [
            "Model: \"model_3\"\n",
            "__________________________________________________________________________________________________\n",
            " Layer (type)                Output Shape                 Param #   Connected to                  \n",
            "==================================================================================================\n",
            " input_7 (InputLayer)        [(None, 128)]                0         []                            \n",
            "                                                                                                  \n",
            " input_8 (InputLayer)        [(None, 128)]                0         []                            \n",
            "                                                                                                  \n",
            " tf_bert_model_3 (TFBertMod  TFBaseModelOutputWithPooli   1094822   ['input_7[0][0]',             \n",
            " el)                         ngAndCrossAttentions(last_   40         'input_8[0][0]']             \n",
            "                             hidden_state=(None, 128, 7                                           \n",
            "                             68),                                                                 \n",
            "                              pooler_output=(None, 768)                                           \n",
            "                             , past_key_values=None, hi                                           \n",
            "                             dden_states=None, attentio                                           \n",
            "                             ns=None, cross_attentions=                                           \n",
            "                             None)                                                                \n",
            "                                                                                                  \n",
            " dropout_447 (Dropout)       (None, 128, 768)             0         ['tf_bert_model_3[0][0]']     \n",
            "                                                                                                  \n",
            " dense_3 (Dense)             (None, 128, 17)              13073     ['dropout_447[0][0]']         \n",
            "                                                                                                  \n",
            "==================================================================================================\n",
            "Total params: 109495313 (417.69 MB)\n",
            "Trainable params: 109495313 (417.69 MB)\n",
            "Non-trainable params: 0 (0.00 Byte)\n",
            "__________________________________________________________________________________________________\n"
          ]
        }
      ]
    },
    {
      "cell_type": "code",
      "source": [
        "tf.keras.utils.plot_model(model)"
      ],
      "metadata": {
        "colab": {
          "base_uri": "https://localhost:8080/",
          "height": 369
        },
        "id": "ErMYYUHO4-Pj",
        "outputId": "797e60d7-c0cd-4359-8734-a367a472f3ef"
      },
      "execution_count": 236,
      "outputs": [
        {
          "output_type": "execute_result",
          "data": {
            "image/png": "[encoded data removed]",
            "text/plain": [
              "<IPython.core.display.Image object>"
            ]
          },
          "metadata": {},
          "execution_count": 236
        }
      ]
    },
    {
      "cell_type": "markdown",
      "source": [
        "# Training model"
      ],
      "metadata": {
        "id": "kFNstvda5CsE"
      }
    },
    {
      "cell_type": "code",
      "source": [
        "from tensorflow.keras.callbacks import EarlyStopping\n",
        "early_stopping = EarlyStopping(mode='min',patience=5)\n",
        "history_bert = model.fit(\n",
        "    [input_ids,attention_mask],\n",
        "    np.array(train_tag),\n",
        "    validation_data = ([val_input_ids,val_attention_mask],np.array(test_tag)),\n",
        "    epochs = 25,\n",
        "    batch_size = 30*2,\n",
        "    callbacks = early_stopping,\n",
        "    verbose = True\n",
        ")"
      ],
      "metadata": {
        "colab": {
          "base_uri": "https://localhost:8080/"
        },
        "id": "XqOyeIAN5CIL",
        "outputId": "5c470cb3-3641-41fb-ab57-10c339701ca4"
      },
      "execution_count": null,
      "outputs": [
        {
          "output_type": "stream",
          "name": "stdout",
          "text": [
            "Epoch 1/25\n"
          ]
        },
        {
          "output_type": "stream",
          "name": "stderr",
          "text": [
            "WARNING:tensorflow:Gradients do not exist for variables ['tf_bert_model_3/bert/pooler/dense/kernel:0', 'tf_bert_model_3/bert/pooler/dense/bias:0'] when minimizing the loss. If you're using `model.compile()`, did you forget to provide a `loss` argument?\n",
            "WARNING:tensorflow:Gradients do not exist for variables ['tf_bert_model_3/bert/pooler/dense/kernel:0', 'tf_bert_model_3/bert/pooler/dense/bias:0'] when minimizing the loss. If you're using `model.compile()`, did you forget to provide a `loss` argument?\n",
            "WARNING:tensorflow:Gradients do not exist for variables ['tf_bert_model_3/bert/pooler/dense/kernel:0', 'tf_bert_model_3/bert/pooler/dense/bias:0'] when minimizing the loss. If you're using `model.compile()`, did you forget to provide a `loss` argument?\n",
            "WARNING:tensorflow:Gradients do not exist for variables ['tf_bert_model_3/bert/pooler/dense/kernel:0', 'tf_bert_model_3/bert/pooler/dense/bias:0'] when minimizing the loss. If you're using `model.compile()`, did you forget to provide a `loss` argument?\n"
          ]
        },
        {
          "output_type": "stream",
          "name": "stdout",
          "text": [
            "1/1 [==============================] - 45s 45s/step - loss: 3.2363 - accuracy: 0.0078 - val_loss: 0.0201 - val_accuracy: 0.9922\n",
            "Epoch 2/25\n"
          ]
        }
      ]
    },
    {
      "cell_type": "code",
      "source": [
        "model.save_weights(\"ner_bert_weights\")"
      ],
      "metadata": {
        "id": "ao7SE8425jmL"
      },
      "execution_count": null,
      "outputs": []
    },
    {
      "cell_type": "code",
      "source": [
        "\n",
        "import matplotlib.pyplot as plt\n",
        "plt.plot(history_bert.history['accuracy'])\n",
        "plt.plot(history_bert.history['val_accuracy'])\n",
        "plt.title('model accuracy')\n",
        "plt.ylabel('accuracy')\n",
        "plt.xlabel('epoch')\n",
        "plt.legend(['train', 'test'], loc='upper left')\n",
        "plt.show()"
      ],
      "metadata": {
        "id": "XFx41Lfv8MUN"
      },
      "execution_count": null,
      "outputs": []
    },
    {
      "cell_type": "code",
      "source": [
        "plt.plot(history_bert.history['loss'])\n",
        "plt.plot(history_bert.history['val_loss'])\n",
        "plt.title('model loss')\n",
        "plt.ylabel('loss')\n",
        "plt.xlabel('epoch')\n",
        "plt.legend(['train', 'test'], loc='upper left')\n",
        "plt.show()\n"
      ],
      "metadata": {
        "id": "ZBoKEaCU8SxT"
      },
      "execution_count": null,
      "outputs": []
    },
    {
      "cell_type": "code",
      "source": [
        "def pred(val_input_ids,val_attention_mask):\n",
        "    return model.predict([val_input_ids,val_attention_mask])"
      ],
      "metadata": {
        "id": "66ESYwrj8VlD"
      },
      "execution_count": null,
      "outputs": []
    },
    {
      "cell_type": "code",
      "source": [
        "def testing(val_input_ids,val_attention_mask,enc_tag,y_test):\n",
        "    val_input = val_input_ids.reshape(1,128)\n",
        "    val_attention = val_attention_mask.reshape(1,128)\n",
        "\n",
        "    # Print Original Sentence\n",
        "    sentence = tokenizer.decode(val_input_ids[val_input_ids > 0])\n",
        "    print(\"Original Text : \",str(sentence))\n",
        "    print(\"\\n\")\n",
        "    true_enc_tag = enc_tag.inverse_transform(y_test)\n",
        "\n",
        "    print(\"Original Tags : \" ,str(true_enc_tag))\n",
        "    print(\"\\n\")\n",
        "\n",
        "    pred_with_pad = np.argmax(pred(val_input,val_attention),axis = -1)\n",
        "    pred_without_pad = pred_with_pad[pred_with_pad>0]\n",
        "    pred_enc_tag = enc_tag.inverse_transform(pred_without_pad)\n",
        "    print(\"Predicted Tags : \",pred_enc_tag)\n",
        ""
      ],
      "metadata": {
        "id": "4hWzC1AS8XLT"
      },
      "execution_count": null,
      "outputs": []
    },
    {
      "cell_type": "code",
      "source": [
        "index = 0\n",
        "print(f\"Validation input ids: \\n\", val_input_ids[index])\n",
        "print(f\"Validation attention masks: \\n\", val_attention_mask[index])\n",
        "#print(f\"Validation encrypted tag masks: \\n\", enc_tag[index])\n",
        "print(f\"Validation y_test masks: \\n\", y_test[index])\n",
        "\n",
        "\n",
        "testing(val_input_ids[index],val_attention_mask[index],enc_tag,y_test[index])"
      ],
      "metadata": {
        "id": "0A2IuHNo8ZGT"
      },
      "execution_count": null,
      "outputs": []
    }
  ]
}