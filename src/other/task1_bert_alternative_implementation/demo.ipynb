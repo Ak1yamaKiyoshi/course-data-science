{
  "nbformat": 4,
  "nbformat_minor": 0,
  "metadata": {
    "colab": {
      "provenance": []
    },
    "kernelspec": {
      "name": "python3",
      "display_name": "Python 3"
    },
    "language_info": {
      "name": "python"
    }
  },
  "cells": [
    {
      "cell_type": "markdown",
      "source": [
        "# ⬅️ Importing libraries"
      ],
      "metadata": {
        "id": "-3-wEMg98e5O"
      }
    },
    {
      "cell_type": "code",
      "source": [
        "import tensorflow as tf\n",
        "import torch\n",
        "from torch.utils.data import TensorDataset, DataLoader, RandomSampler, SequentialSampler\n",
        "from keras.preprocessing.sequence import pad_sequences\n",
        "from sklearn.model_selection import train_test_split\n",
        "import pandas as pd\n",
        "import numpy as np\n",
        "import matplotlib.pyplot as plt\n",
        "%matplotlib inline\n",
        "from transformers import BertTokenizer\n",
        "from torch.utils.data import Dataset\n",
        "from transformers import BertForSequenceClassification\n",
        "from torch.utils.data import DataLoader\n",
        "import torch.optim as optim\n",
        "import torch.nn.functional as F"
      ],
      "metadata": {
        "id": "GYChCQxO_OOf"
      },
      "execution_count": null,
      "outputs": []
    },
    {
      "cell_type": "markdown",
      "source": [
        "# 📥 Loading dataset"
      ],
      "metadata": {
        "id": "GW4fqRnW8co4"
      }
    },
    {
      "cell_type": "code",
      "source": [
        "data_path = '/content/bert_ner_moountain_dataset.csv'\n",
        "df = pd.read_csv('/content/bert_ner_moountain_dataset.csv', delimiter=\";\",  error_bad_lines=False)"
      ],
      "metadata": {
        "id": "LEWmbJDI_0Gu",
        "colab": {
          "base_uri": "https://localhost:8080/"
        },
        "outputId": "28fb7893-fef4-4caf-886d-edaf9e766b58"
      },
      "execution_count": null,
      "outputs": [
        {
          "output_type": "stream",
          "name": "stderr",
          "text": [
            "<ipython-input-48-4b8e0be838b9>:2: FutureWarning: The error_bad_lines argument has been deprecated and will be removed in a future version. Use on_bad_lines in the future.\n",
            "\n",
            "\n",
            "  df = pd.read_csv('/content/bert_ner_moountain_dataset.csv', delimiter=\";\",  error_bad_lines=False)\n",
            "Skipping line 1726: expected 2 fields, saw 3\n",
            "\n"
          ]
        }
      ]
    },
    {
      "cell_type": "code",
      "source": [
        "df.sample(5)"
      ],
      "metadata": {
        "id": "k7HJ5peM_1TF",
        "colab": {
          "base_uri": "https://localhost:8080/",
          "height": 206
        },
        "outputId": "f863abfb-8fdb-419c-e282-8f1fd6158c9f"
      },
      "execution_count": null,
      "outputs": [
        {
          "output_type": "execute_result",
          "data": {
            "text/plain": [
              "         label                                           sentence\n",
              "2699         O  The Museum of Folk Architecture and Life in Lv...\n",
              "1343  Mountain  Gyala Peri, the highest peak in Southeast Asia...\n",
              "2966         O  South Africa is a desire for an expedition, wi...\n",
              "2762         O  Thailand is beckoning me for an expedition, wi...\n",
              "1619         O  The rooftop bar provided a stunning panorama o..."
            ],
            "text/html": [
              "\n",
              "  <div id=\"df-4924d23a-4c40-4f31-bc1a-e93fe53fa026\" class=\"colab-df-container\">\n",
              "    <div>\n",
              "<style scoped>\n",
              "    .dataframe tbody tr th:only-of-type {\n",
              "        vertical-align: middle;\n",
              "    }\n",
              "\n",
              "    .dataframe tbody tr th {\n",
              "        vertical-align: top;\n",
              "    }\n",
              "\n",
              "    .dataframe thead th {\n",
              "        text-align: right;\n",
              "    }\n",
              "</style>\n",
              "<table border=\"1\" class=\"dataframe\">\n",
              "  <thead>\n",
              "    <tr style=\"text-align: right;\">\n",
              "      <th></th>\n",
              "      <th>label</th>\n",
              "      <th>sentence</th>\n",
              "    </tr>\n",
              "  </thead>\n",
              "  <tbody>\n",
              "    <tr>\n",
              "      <th>2699</th>\n",
              "      <td>O</td>\n",
              "      <td>The Museum of Folk Architecture and Life in Lv...</td>\n",
              "    </tr>\n",
              "    <tr>\n",
              "      <th>1343</th>\n",
              "      <td>Mountain</td>\n",
              "      <td>Gyala Peri, the highest peak in Southeast Asia...</td>\n",
              "    </tr>\n",
              "    <tr>\n",
              "      <th>2966</th>\n",
              "      <td>O</td>\n",
              "      <td>South Africa is a desire for an expedition, wi...</td>\n",
              "    </tr>\n",
              "    <tr>\n",
              "      <th>2762</th>\n",
              "      <td>O</td>\n",
              "      <td>Thailand is beckoning me for an expedition, wi...</td>\n",
              "    </tr>\n",
              "    <tr>\n",
              "      <th>1619</th>\n",
              "      <td>O</td>\n",
              "      <td>The rooftop bar provided a stunning panorama o...</td>\n",
              "    </tr>\n",
              "  </tbody>\n",
              "</table>\n",
              "</div>\n",
              "    <div class=\"colab-df-buttons\">\n",
              "\n",
              "  <div class=\"colab-df-container\">\n",
              "    <button class=\"colab-df-convert\" onclick=\"convertToInteractive('df-4924d23a-4c40-4f31-bc1a-e93fe53fa026')\"\n",
              "            title=\"Convert this dataframe to an interactive table.\"\n",
              "            style=\"display:none;\">\n",
              "\n",
              "  <svg xmlns=\"http://www.w3.org/2000/svg\" height=\"24px\" viewBox=\"0 -960 960 960\">\n",
              "    <path d=\"M120-120v-720h720v720H120Zm60-500h600v-160H180v160Zm220 220h160v-160H400v160Zm0 220h160v-160H400v160ZM180-400h160v-160H180v160Zm440 0h160v-160H620v160ZM180-180h160v-160H180v160Zm440 0h160v-160H620v160Z\"/>\n",
              "  </svg>\n",
              "    </button>\n",
              "\n",
              "  <style>\n",
              "    .colab-df-container {\n",
              "      display:flex;\n",
              "      gap: 12px;\n",
              "    }\n",
              "\n",
              "    .colab-df-convert {\n",
              "      background-color: #E8F0FE;\n",
              "      border: none;\n",
              "      border-radius: 50%;\n",
              "      cursor: pointer;\n",
              "      display: none;\n",
              "      fill: #1967D2;\n",
              "      height: 32px;\n",
              "      padding: 0 0 0 0;\n",
              "      width: 32px;\n",
              "    }\n",
              "\n",
              "    .colab-df-convert:hover {\n",
              "      background-color: #E2EBFA;\n",
              "      box-shadow: 0px 1px 2px rgba(60, 64, 67, 0.3), 0px 1px 3px 1px rgba(60, 64, 67, 0.15);\n",
              "      fill: #174EA6;\n",
              "    }\n",
              "\n",
              "    .colab-df-buttons div {\n",
              "      margin-bottom: 4px;\n",
              "    }\n",
              "\n",
              "    [theme=dark] .colab-df-convert {\n",
              "      background-color: #3B4455;\n",
              "      fill: #D2E3FC;\n",
              "    }\n",
              "\n",
              "    [theme=dark] .colab-df-convert:hover {\n",
              "      background-color: #434B5C;\n",
              "      box-shadow: 0px 1px 3px 1px rgba(0, 0, 0, 0.15);\n",
              "      filter: drop-shadow(0px 1px 2px rgba(0, 0, 0, 0.3));\n",
              "      fill: #FFFFFF;\n",
              "    }\n",
              "  </style>\n",
              "\n",
              "    <script>\n",
              "      const buttonEl =\n",
              "        document.querySelector('#df-4924d23a-4c40-4f31-bc1a-e93fe53fa026 button.colab-df-convert');\n",
              "      buttonEl.style.display =\n",
              "        google.colab.kernel.accessAllowed ? 'block' : 'none';\n",
              "\n",
              "      async function convertToInteractive(key) {\n",
              "        const element = document.querySelector('#df-4924d23a-4c40-4f31-bc1a-e93fe53fa026');\n",
              "        const dataTable =\n",
              "          await google.colab.kernel.invokeFunction('convertToInteractive',\n",
              "                                                    [key], {});\n",
              "        if (!dataTable) return;\n",
              "\n",
              "        const docLinkHtml = 'Like what you see? Visit the ' +\n",
              "          '<a target=\"_blank\" href=https://colab.research.google.com/notebooks/data_table.ipynb>data table notebook</a>'\n",
              "          + ' to learn more about interactive tables.';\n",
              "        element.innerHTML = '';\n",
              "        dataTable['output_type'] = 'display_data';\n",
              "        await google.colab.output.renderOutput(dataTable, element);\n",
              "        const docLink = document.createElement('div');\n",
              "        docLink.innerHTML = docLinkHtml;\n",
              "        element.appendChild(docLink);\n",
              "      }\n",
              "    </script>\n",
              "  </div>\n",
              "\n",
              "\n",
              "<div id=\"df-bc4307c8-8fb9-4b92-b71f-373892dc318e\">\n",
              "  <button class=\"colab-df-quickchart\" onclick=\"quickchart('df-bc4307c8-8fb9-4b92-b71f-373892dc318e')\"\n",
              "            title=\"Suggest charts\"\n",
              "            style=\"display:none;\">\n",
              "\n",
              "<svg xmlns=\"http://www.w3.org/2000/svg\" height=\"24px\"viewBox=\"0 0 24 24\"\n",
              "     width=\"24px\">\n",
              "    <g>\n",
              "        <path d=\"M19 3H5c-1.1 0-2 .9-2 2v14c0 1.1.9 2 2 2h14c1.1 0 2-.9 2-2V5c0-1.1-.9-2-2-2zM9 17H7v-7h2v7zm4 0h-2V7h2v10zm4 0h-2v-4h2v4z\"/>\n",
              "    </g>\n",
              "</svg>\n",
              "  </button>\n",
              "\n",
              "<style>\n",
              "  .colab-df-quickchart {\n",
              "      --bg-color: #E8F0FE;\n",
              "      --fill-color: #1967D2;\n",
              "      --hover-bg-color: #E2EBFA;\n",
              "      --hover-fill-color: #174EA6;\n",
              "      --disabled-fill-color: #AAA;\n",
              "      --disabled-bg-color: #DDD;\n",
              "  }\n",
              "\n",
              "  [theme=dark] .colab-df-quickchart {\n",
              "      --bg-color: #3B4455;\n",
              "      --fill-color: #D2E3FC;\n",
              "      --hover-bg-color: #434B5C;\n",
              "      --hover-fill-color: #FFFFFF;\n",
              "      --disabled-bg-color: #3B4455;\n",
              "      --disabled-fill-color: #666;\n",
              "  }\n",
              "\n",
              "  .colab-df-quickchart {\n",
              "    background-color: var(--bg-color);\n",
              "    border: none;\n",
              "    border-radius: 50%;\n",
              "    cursor: pointer;\n",
              "    display: none;\n",
              "    fill: var(--fill-color);\n",
              "    height: 32px;\n",
              "    padding: 0;\n",
              "    width: 32px;\n",
              "  }\n",
              "\n",
              "  .colab-df-quickchart:hover {\n",
              "    background-color: var(--hover-bg-color);\n",
              "    box-shadow: 0 1px 2px rgba(60, 64, 67, 0.3), 0 1px 3px 1px rgba(60, 64, 67, 0.15);\n",
              "    fill: var(--button-hover-fill-color);\n",
              "  }\n",
              "\n",
              "  .colab-df-quickchart-complete:disabled,\n",
              "  .colab-df-quickchart-complete:disabled:hover {\n",
              "    background-color: var(--disabled-bg-color);\n",
              "    fill: var(--disabled-fill-color);\n",
              "    box-shadow: none;\n",
              "  }\n",
              "\n",
              "  .colab-df-spinner {\n",
              "    border: 2px solid var(--fill-color);\n",
              "    border-color: transparent;\n",
              "    border-bottom-color: var(--fill-color);\n",
              "    animation:\n",
              "      spin 1s steps(1) infinite;\n",
              "  }\n",
              "\n",
              "  @keyframes spin {\n",
              "    0% {\n",
              "      border-color: transparent;\n",
              "      border-bottom-color: var(--fill-color);\n",
              "      border-left-color: var(--fill-color);\n",
              "    }\n",
              "    20% {\n",
              "      border-color: transparent;\n",
              "      border-left-color: var(--fill-color);\n",
              "      border-top-color: var(--fill-color);\n",
              "    }\n",
              "    30% {\n",
              "      border-color: transparent;\n",
              "      border-left-color: var(--fill-color);\n",
              "      border-top-color: var(--fill-color);\n",
              "      border-right-color: var(--fill-color);\n",
              "    }\n",
              "    40% {\n",
              "      border-color: transparent;\n",
              "      border-right-color: var(--fill-color);\n",
              "      border-top-color: var(--fill-color);\n",
              "    }\n",
              "    60% {\n",
              "      border-color: transparent;\n",
              "      border-right-color: var(--fill-color);\n",
              "    }\n",
              "    80% {\n",
              "      border-color: transparent;\n",
              "      border-right-color: var(--fill-color);\n",
              "      border-bottom-color: var(--fill-color);\n",
              "    }\n",
              "    90% {\n",
              "      border-color: transparent;\n",
              "      border-bottom-color: var(--fill-color);\n",
              "    }\n",
              "  }\n",
              "</style>\n",
              "\n",
              "  <script>\n",
              "    async function quickchart(key) {\n",
              "      const quickchartButtonEl =\n",
              "        document.querySelector('#' + key + ' button');\n",
              "      quickchartButtonEl.disabled = true;  // To prevent multiple clicks.\n",
              "      quickchartButtonEl.classList.add('colab-df-spinner');\n",
              "      try {\n",
              "        const charts = await google.colab.kernel.invokeFunction(\n",
              "            'suggestCharts', [key], {});\n",
              "      } catch (error) {\n",
              "        console.error('Error during call to suggestCharts:', error);\n",
              "      }\n",
              "      quickchartButtonEl.classList.remove('colab-df-spinner');\n",
              "      quickchartButtonEl.classList.add('colab-df-quickchart-complete');\n",
              "    }\n",
              "    (() => {\n",
              "      let quickchartButtonEl =\n",
              "        document.querySelector('#df-bc4307c8-8fb9-4b92-b71f-373892dc318e button');\n",
              "      quickchartButtonEl.style.display =\n",
              "        google.colab.kernel.accessAllowed ? 'block' : 'none';\n",
              "    })();\n",
              "  </script>\n",
              "</div>\n",
              "    </div>\n",
              "  </div>\n"
            ]
          },
          "metadata": {},
          "execution_count": 49
        }
      ]
    },
    {
      "cell_type": "markdown",
      "source": [
        "# ⬇️ Load model weights"
      ],
      "metadata": {
        "id": "jivTRcHxh7O_"
      }
    },
    {
      "cell_type": "code",
      "source": [
        "tokenizer = BertTokenizer.from_pretrained(\"bert-base-uncased\")\n",
        "tokenized_inputs = tokenizer(df[\"sentence\"].tolist(), padding=True, truncation=True, return_tensors=\"pt\")"
      ],
      "metadata": {
        "id": "F0t79fhN_xzv"
      },
      "execution_count": null,
      "outputs": []
    },
    {
      "cell_type": "code",
      "source": [
        "dataset = CustomDataset(tokenized_inputs, labels=df[\"label\"].map({\"Mountain\": 1, \"O\": 0}).tolist())"
      ],
      "metadata": {
        "id": "TrkpN-vWAC-n"
      },
      "execution_count": null,
      "outputs": []
    },
    {
      "cell_type": "code",
      "execution_count": null,
      "metadata": {
        "id": "ou_A5R8b-PY1",
        "colab": {
          "base_uri": "https://localhost:8080/"
        },
        "outputId": "02aad4d2-7970-4edf-e3fb-43bb2d129a5f"
      },
      "outputs": [
        {
          "output_type": "stream",
          "name": "stderr",
          "text": [
            "Some weights of BertForSequenceClassification were not initialized from the model checkpoint at bert-base-uncased and are newly initialized: ['classifier.bias', 'classifier.weight']\n",
            "You should probably TRAIN this model on a down-stream task to be able to use it for predictions and inference.\n"
          ]
        }
      ],
      "source": [
        "model = BertForSequenceClassification.from_pretrained(\"bert-base-uncased\", num_labels=2)\n"
      ]
    },
    {
      "cell_type": "code",
      "source": [
        "model.load_state_dict(torch.load('/content/model.pth'))"
      ],
      "metadata": {
        "colab": {
          "base_uri": "https://localhost:8080/"
        },
        "id": "0-i46iilSSPy",
        "outputId": "0b27c73d-d5eb-406a-fdb2-16d7c31e106d"
      },
      "execution_count": null,
      "outputs": [
        {
          "output_type": "execute_result",
          "data": {
            "text/plain": [
              "<All keys matched successfully>"
            ]
          },
          "metadata": {},
          "execution_count": 53
        }
      ]
    },
    {
      "cell_type": "markdown",
      "source": [
        "# 🎯 Accuracy"
      ],
      "metadata": {
        "id": "LYBYx51S8oAc"
      }
    },
    {
      "cell_type": "code",
      "source": [
        "def accuracy(df, model, tokenizer):\n",
        "    \"\"\"\n",
        "    [df] - DataFrame with 'sentence' and 'label' columns\n",
        "    [model] - BERT model that will predict on sentences\n",
        "    [tokenizer] - tokenizer used for that model\n",
        "    \"\"\"\n",
        "    total = 0\n",
        "    correct = 0\n",
        "\n",
        "    for index, row in df.iterrows():\n",
        "        sentence = row['sentence']\n",
        "        label = row['label']\n",
        "\n",
        "        tokenized_inputs = tokenizer(sentence, padding=True, truncation=True, return_tensors=\"pt\")\n",
        "\n",
        "        with torch.no_grad():\n",
        "            outputs = model(**tokenized_inputs)\n",
        "            predictions = torch.argmax(outputs.logits, dim=1)\n",
        "\n",
        "        predicted_label = \"Mountain\" if predictions.item() == 1 else \"O\"\n",
        "        if predicted_label == label:\n",
        "            correct += 1\n",
        "        total += 1\n",
        "\n",
        "    accuracy = correct / total * 100\n",
        "    print(f\"Accuracy: {accuracy:.2f}%\")\n",
        "\n",
        "accuracy(df, model, tokenizer)"
      ],
      "metadata": {
        "id": "NLRch46g_k7W",
        "colab": {
          "base_uri": "https://localhost:8080/"
        },
        "outputId": "e79f7c22-0b79-49aa-de4b-2160aeb5c7f3"
      },
      "execution_count": null,
      "outputs": [
        {
          "output_type": "stream",
          "name": "stdout",
          "text": [
            "Accuracy: 85.12%\n"
          ]
        }
      ]
    },
    {
      "cell_type": "markdown",
      "source": [
        "Before saying anything about accuracy, it is worth looking at the structure of the dataset and how the model was trained.\n",
        "\n",
        "The dataset consists of label and sentence columns. This does not allow the model to clearly understand which word in the sentence corresponds to a particular tag.  That's why the model is trained to determine the label for the entire sentence at once.\n",
        "\n",
        "That is why we measure accuracy in the same way - by determining the label of the entire sentence at once.\n",
        "\n",
        "This approach has a number of disadvantages, including low accuracy and the need for additional dataset lines to indicate the label \"O\".\n",
        "\n",
        "This approach was chosen by mistake, but it is only an alternative version of the working code, and one of the first ones. Therefore, it has the right to exist"
      ],
      "metadata": {
        "id": "Pwh7PFf392oM"
      }
    },
    {
      "cell_type": "markdown",
      "source": [
        "# ⚙️ Predictions"
      ],
      "metadata": {
        "id": "wOE0xzUn8rLc"
      }
    },
    {
      "cell_type": "markdown",
      "source": [
        "But unlike training, we can define labels for each word in a sentence, which is demonstrated in the predict_sentence function"
      ],
      "metadata": {
        "id": "9XjO0xHt_K_N"
      }
    },
    {
      "cell_type": "code",
      "source": [
        "def predict_sentence(sentence_x, model, tokenizer):\n",
        "    \"\"\"\n",
        "      [sentence_x] - String sentence to predict\n",
        "      [model] - BERT model that will predict on sentence\n",
        "      [tokenizer] - tokenizer used for that model\n",
        "    \"\"\"\n",
        "    tokenized_inputs = tokenizer(sentence_x.split(\" \"), padding=True, truncation=True, return_tensors =\"pt\")\n",
        "    with torch.no_grad():\n",
        "      outputs = model(**tokenized_inputs)\n",
        "      predictions = torch.argmax(outputs.logits, dim=1)\n",
        "\n",
        "      predicted_labels = [\"Mountain\" if pred >= 0.5 else \".\" for pred in predictions.tolist()]\n",
        "      return predicted_labels\n",
        "\n",
        "\n",
        "sentences_to_predict = [\n",
        "    \"Some sentence about cool mountain called Hoverla!\",\n",
        "    \"Quantum has a cool task to make NER model that recognizes mountains!\",\n",
        "    \"Especially Everest\"\n",
        "]\n",
        "\n",
        "for sentence_x in sentences_to_predict:\n",
        "  predicted_labels =  predict_sentence(sentence_x, model, tokenizer)\n",
        "  for i in zip(sentence_x.split(\" \"), predicted_labels):\n",
        "    print(f\"{i[0]}({i[1]}) \", end=\"\")\n",
        "  print(\"\")"
      ],
      "metadata": {
        "id": "LMMoB_hB_g4G",
        "colab": {
          "base_uri": "https://localhost:8080/"
        },
        "outputId": "0fc7ad1d-5d2a-4c90-aa10-c9dc96f31058"
      },
      "execution_count": null,
      "outputs": [
        {
          "output_type": "stream",
          "name": "stdout",
          "text": [
            "Some(.) sentence(.) about(.) cool(.) mountain(Mountain) called(.) Hoverla!(Mountain) \n",
            "Quantum(.) has(.) a(Mountain) cool(.) task(.) to(Mountain) make(.) NER(Mountain) model(.) that(.) recognizes(Mountain) mountains!(Mountain) (Mountain) \n"
          ]
        }
      ]
    },
    {
      "cell_type": "markdown",
      "source": [
        "# ⚔️ Try by yourself!"
      ],
      "metadata": {
        "id": "hc-H2ZCt9jA4"
      }
    },
    {
      "cell_type": "code",
      "source": [
        "your_sentence = \"\"\n",
        "\n",
        "predicted_labels =  predict_sentence(your_sentence, model, tokenizer)\n",
        "  for i in zip(your_sentence.split(\" \"), predicted_labels):\n",
        "    print(f\"{i[0]}({i[1]}) \", end=\"\")"
      ],
      "metadata": {
        "id": "ie_b1BQE9sQG"
      },
      "execution_count": null,
      "outputs": []
    }
  ]
}